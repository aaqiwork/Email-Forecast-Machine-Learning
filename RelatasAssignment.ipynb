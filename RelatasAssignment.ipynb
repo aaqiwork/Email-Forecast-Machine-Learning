{
  "nbformat": 4,
  "nbformat_minor": 0,
  "metadata": {
    "colab": {
      "name": "RelatasAssignment.ipynb",
      "provenance": [],
      "collapsed_sections": []
    },
    "kernelspec": {
      "name": "python3",
      "display_name": "Python 3"
    },
    "accelerator": "TPU"
  },
  "cells": [
    {
      "cell_type": "code",
      "metadata": {
        "id": "sj1uS7T-PbNO",
        "colab_type": "code",
        "colab": {
          "base_uri": "https://localhost:8080/",
          "height": 263
        },
        "outputId": "1b8be75e-6f08-4bcf-ddde-3b8b08cc5f88"
      },
      "source": [
        "!pip install PyDrive"
      ],
      "execution_count": 1,
      "outputs": [
        {
          "output_type": "stream",
          "text": [
            "Requirement already satisfied: PyDrive in /usr/local/lib/python3.6/dist-packages (1.3.1)\n",
            "Requirement already satisfied: google-api-python-client>=1.2 in /usr/local/lib/python3.6/dist-packages (from PyDrive) (1.7.12)\n",
            "Requirement already satisfied: PyYAML>=3.0 in /usr/local/lib/python3.6/dist-packages (from PyDrive) (3.13)\n",
            "Requirement already satisfied: oauth2client>=4.0.0 in /usr/local/lib/python3.6/dist-packages (from PyDrive) (4.1.3)\n",
            "Requirement already satisfied: google-auth-httplib2>=0.0.3 in /usr/local/lib/python3.6/dist-packages (from google-api-python-client>=1.2->PyDrive) (0.0.4)\n",
            "Requirement already satisfied: httplib2<1dev,>=0.17.0 in /usr/local/lib/python3.6/dist-packages (from google-api-python-client>=1.2->PyDrive) (0.17.4)\n",
            "Requirement already satisfied: six<2dev,>=1.6.1 in /usr/local/lib/python3.6/dist-packages (from google-api-python-client>=1.2->PyDrive) (1.15.0)\n",
            "Requirement already satisfied: uritemplate<4dev,>=3.0.0 in /usr/local/lib/python3.6/dist-packages (from google-api-python-client>=1.2->PyDrive) (3.0.1)\n",
            "Requirement already satisfied: google-auth>=1.4.1 in /usr/local/lib/python3.6/dist-packages (from google-api-python-client>=1.2->PyDrive) (1.17.2)\n",
            "Requirement already satisfied: pyasn1>=0.1.7 in /usr/local/lib/python3.6/dist-packages (from oauth2client>=4.0.0->PyDrive) (0.4.8)\n",
            "Requirement already satisfied: pyasn1-modules>=0.0.5 in /usr/local/lib/python3.6/dist-packages (from oauth2client>=4.0.0->PyDrive) (0.2.8)\n",
            "Requirement already satisfied: rsa>=3.1.4 in /usr/local/lib/python3.6/dist-packages (from oauth2client>=4.0.0->PyDrive) (4.6)\n",
            "Requirement already satisfied: setuptools>=40.3.0 in /usr/local/lib/python3.6/dist-packages (from google-auth>=1.4.1->google-api-python-client>=1.2->PyDrive) (49.2.0)\n",
            "Requirement already satisfied: cachetools<5.0,>=2.0.0 in /usr/local/lib/python3.6/dist-packages (from google-auth>=1.4.1->google-api-python-client>=1.2->PyDrive) (4.1.1)\n"
          ],
          "name": "stdout"
        }
      ]
    },
    {
      "cell_type": "markdown",
      "metadata": {
        "id": "bb6kkITtg5sN",
        "colab_type": "text"
      },
      "source": [
        "Importing all initial libraries"
      ]
    },
    {
      "cell_type": "code",
      "metadata": {
        "id": "qjivc7OcN5hf",
        "colab_type": "code",
        "colab": {}
      },
      "source": [
        "import pandas as pd\n",
        "import re\n",
        "import string\n",
        "from sklearn.decomposition import PCA\n",
        "from sklearn.cluster import KMeans, MiniBatchKMeans\n",
        "import numpy as np\n",
        "from pydrive.auth import GoogleAuth\n",
        "from pydrive.drive import GoogleDrive\n",
        "from google.colab import auth\n",
        "from oauth2client.client import GoogleCredentials\n",
        "import calendar"
      ],
      "execution_count": 69,
      "outputs": []
    },
    {
      "cell_type": "code",
      "metadata": {
        "id": "kVP-FGJcOnSg",
        "colab_type": "code",
        "colab": {}
      },
      "source": [
        "auth.authenticate_user()\n",
        "gauth = GoogleAuth()\n",
        "gauth.credentials = GoogleCredentials.get_application_default()\n",
        "drive = GoogleDrive(gauth)"
      ],
      "execution_count": 64,
      "outputs": []
    },
    {
      "cell_type": "code",
      "metadata": {
        "id": "kLceJpHMOrhD",
        "colab_type": "code",
        "colab": {
          "base_uri": "https://localhost:8080/",
          "height": 510
        },
        "outputId": "54d13ea0-bfbe-45fb-a703-fe746e25d587"
      },
      "source": [
        "downloaded = drive.CreateFile({'id':\"1-290vJDsXWT-4vRfqfLPULZiznKUy6GF\"})   # replace the id with id of file you want to access\n",
        "downloaded.GetContentFile('interactions.xlsx')   # replace the file name with your file\n"
      ],
      "execution_count": 65,
      "outputs": [
        {
          "output_type": "stream",
          "text": [
            "WARNING:googleapiclient.discovery_cache:file_cache is unavailable when using oauth2client >= 4.0.0 or google-auth\n",
            "Traceback (most recent call last):\n",
            "  File \"/usr/local/lib/python3.6/dist-packages/googleapiclient/discovery_cache/__init__.py\", line 36, in autodetect\n",
            "    from google.appengine.api import memcache\n",
            "ModuleNotFoundError: No module named 'google.appengine'\n",
            "\n",
            "During handling of the above exception, another exception occurred:\n",
            "\n",
            "Traceback (most recent call last):\n",
            "  File \"/usr/local/lib/python3.6/dist-packages/googleapiclient/discovery_cache/file_cache.py\", line 33, in <module>\n",
            "    from oauth2client.contrib.locked_file import LockedFile\n",
            "ModuleNotFoundError: No module named 'oauth2client.contrib.locked_file'\n",
            "\n",
            "During handling of the above exception, another exception occurred:\n",
            "\n",
            "Traceback (most recent call last):\n",
            "  File \"/usr/local/lib/python3.6/dist-packages/googleapiclient/discovery_cache/file_cache.py\", line 37, in <module>\n",
            "    from oauth2client.locked_file import LockedFile\n",
            "ModuleNotFoundError: No module named 'oauth2client.locked_file'\n",
            "\n",
            "During handling of the above exception, another exception occurred:\n",
            "\n",
            "Traceback (most recent call last):\n",
            "  File \"/usr/local/lib/python3.6/dist-packages/googleapiclient/discovery_cache/__init__.py\", line 42, in autodetect\n",
            "    from . import file_cache\n",
            "  File \"/usr/local/lib/python3.6/dist-packages/googleapiclient/discovery_cache/file_cache.py\", line 41, in <module>\n",
            "    \"file_cache is unavailable when using oauth2client >= 4.0.0 or google-auth\"\n",
            "ImportError: file_cache is unavailable when using oauth2client >= 4.0.0 or google-auth\n"
          ],
          "name": "stderr"
        }
      ]
    },
    {
      "cell_type": "markdown",
      "metadata": {
        "id": "G1SDcC9mg_Si",
        "colab_type": "text"
      },
      "source": [
        "Retreiving data"
      ]
    },
    {
      "cell_type": "code",
      "metadata": {
        "id": "eE_p0KRlQCol",
        "colab_type": "code",
        "colab": {}
      },
      "source": [
        "df = pd.read_excel('interactions.xlsx')"
      ],
      "execution_count": 66,
      "outputs": []
    },
    {
      "cell_type": "code",
      "metadata": {
        "id": "NgX0L-FtQIWi",
        "colab_type": "code",
        "colab": {
          "base_uri": "https://localhost:8080/",
          "height": 195
        },
        "outputId": "37944915-1e63-4a0e-ecac-90ce1f76b58b"
      },
      "source": [
        "df.head()"
      ],
      "execution_count": 67,
      "outputs": [
        {
          "output_type": "execute_result",
          "data": {
            "text/html": [
              "<div>\n",
              "<style scoped>\n",
              "    .dataframe tbody tr th:only-of-type {\n",
              "        vertical-align: middle;\n",
              "    }\n",
              "\n",
              "    .dataframe tbody tr th {\n",
              "        vertical-align: top;\n",
              "    }\n",
              "\n",
              "    .dataframe thead th {\n",
              "        text-align: right;\n",
              "    }\n",
              "</style>\n",
              "<table border=\"1\" class=\"dataframe\">\n",
              "  <thead>\n",
              "    <tr style=\"text-align: right;\">\n",
              "      <th></th>\n",
              "      <th>interactionID</th>\n",
              "      <th>fromEmailId</th>\n",
              "      <th>toEmailId</th>\n",
              "      <th>InteractionDate</th>\n",
              "      <th>InteractionType(Call/Email/SMS)</th>\n",
              "      <th>Extracted Interaction Text</th>\n",
              "    </tr>\n",
              "  </thead>\n",
              "  <tbody>\n",
              "    <tr>\n",
              "      <th>0</th>\n",
              "      <td>8842411</td>\n",
              "      <td>gladys@piedpiper.com</td>\n",
              "      <td>kristle@dontechi.com</td>\n",
              "      <td>2016-01-04</td>\n",
              "      <td>Call</td>\n",
              "      <td>I thoroughly enjoyed your presentation yesterd...</td>\n",
              "    </tr>\n",
              "    <tr>\n",
              "      <th>1</th>\n",
              "      <td>8015509</td>\n",
              "      <td>donn@piedpiper.com</td>\n",
              "      <td>orpha@umbrellacorporation.com</td>\n",
              "      <td>2016-01-04</td>\n",
              "      <td>Call</td>\n",
              "      <td>speaking with you and your staff will be a tre...</td>\n",
              "    </tr>\n",
              "    <tr>\n",
              "      <th>2</th>\n",
              "      <td>5976842</td>\n",
              "      <td>kary@piedpiper.com</td>\n",
              "      <td>claribel@goodsilron.com</td>\n",
              "      <td>2016-01-04</td>\n",
              "      <td>Email</td>\n",
              "      <td>However, I am unable to join because of my fam...</td>\n",
              "    </tr>\n",
              "    <tr>\n",
              "      <th>3</th>\n",
              "      <td>1471794</td>\n",
              "      <td>boris@piedpiper.com</td>\n",
              "      <td>gordon@scotfind.com</td>\n",
              "      <td>2016-01-04</td>\n",
              "      <td>Call</td>\n",
              "      <td>We are extremely sorry to inform you that we h...</td>\n",
              "    </tr>\n",
              "    <tr>\n",
              "      <th>4</th>\n",
              "      <td>4330320</td>\n",
              "      <td>darcel@piedpiper.com</td>\n",
              "      <td>benny@treequote.com</td>\n",
              "      <td>2016-01-04</td>\n",
              "      <td>Call</td>\n",
              "      <td>I don't think it's possible for me to meet you</td>\n",
              "    </tr>\n",
              "  </tbody>\n",
              "</table>\n",
              "</div>"
            ],
            "text/plain": [
              "   interactionID  ...                         Extracted Interaction Text\n",
              "0        8842411  ...  I thoroughly enjoyed your presentation yesterd...\n",
              "1        8015509  ...  speaking with you and your staff will be a tre...\n",
              "2        5976842  ...  However, I am unable to join because of my fam...\n",
              "3        1471794  ...  We are extremely sorry to inform you that we h...\n",
              "4        4330320  ...     I don't think it's possible for me to meet you\n",
              "\n",
              "[5 rows x 6 columns]"
            ]
          },
          "metadata": {
            "tags": []
          },
          "execution_count": 67
        }
      ]
    },
    {
      "cell_type": "code",
      "metadata": {
        "id": "Qt6Pf67DXFHc",
        "colab_type": "code",
        "colab": {}
      },
      "source": [
        "#https://drive.google.com/file/d/1CArnnTGCBqZYh8F-frZ7H6TWbAhJlnud/view?usp=sharing\n",
        "downloaded = drive.CreateFile({'id':\"1CArnnTGCBqZYh8F-frZ7H6TWbAhJlnud\"})   # replace the id with id of file you want to access\n",
        "downloaded.GetContentFile('sales-pipeline.xlsx') "
      ],
      "execution_count": 7,
      "outputs": []
    },
    {
      "cell_type": "code",
      "metadata": {
        "id": "S1NPgkFjQXVf",
        "colab_type": "code",
        "colab": {}
      },
      "source": [
        "sales_df=pd.read_excel('sales-pipeline.xlsx')"
      ],
      "execution_count": 8,
      "outputs": []
    },
    {
      "cell_type": "code",
      "metadata": {
        "id": "a1bD1D0uWzcV",
        "colab_type": "code",
        "colab": {
          "base_uri": "https://localhost:8080/",
          "height": 586
        },
        "outputId": "d719c7c7-c00a-4f33-b479-1f87d305df99"
      },
      "source": [
        "sales_df"
      ],
      "execution_count": 9,
      "outputs": [
        {
          "output_type": "execute_result",
          "data": {
            "text/html": [
              "<div>\n",
              "<style scoped>\n",
              "    .dataframe tbody tr th:only-of-type {\n",
              "        vertical-align: middle;\n",
              "    }\n",
              "\n",
              "    .dataframe tbody tr th {\n",
              "        vertical-align: top;\n",
              "    }\n",
              "\n",
              "    .dataframe thead th {\n",
              "        text-align: right;\n",
              "    }\n",
              "</style>\n",
              "<table border=\"1\" class=\"dataframe\">\n",
              "  <thead>\n",
              "    <tr style=\"text-align: right;\">\n",
              "      <th></th>\n",
              "      <th>Account</th>\n",
              "      <th>Opportunity_ID</th>\n",
              "      <th>Sales_Agent</th>\n",
              "      <th>SalesAgentEmailID</th>\n",
              "      <th>ContactEmailID</th>\n",
              "      <th>Deal_Stage</th>\n",
              "      <th>Product</th>\n",
              "      <th>Close_Value</th>\n",
              "      <th>Created Date</th>\n",
              "      <th>Close Date</th>\n",
              "      <th>DateDiff</th>\n",
              "    </tr>\n",
              "  </thead>\n",
              "  <tbody>\n",
              "    <tr>\n",
              "      <th>0</th>\n",
              "      <td>Konex</td>\n",
              "      <td>3KR50X38</td>\n",
              "      <td>Corliss Cosme</td>\n",
              "      <td>corliss@piedpiper.com</td>\n",
              "      <td>delila@konex.com</td>\n",
              "      <td>Won</td>\n",
              "      <td>GTX Plus Basic</td>\n",
              "      <td>1255</td>\n",
              "      <td>2016-01-04</td>\n",
              "      <td>2016-05-24</td>\n",
              "      <td>141</td>\n",
              "    </tr>\n",
              "    <tr>\n",
              "      <th>1</th>\n",
              "      <td>Finjob</td>\n",
              "      <td>YFS5KLJJ</td>\n",
              "      <td>Rosalina Dieter</td>\n",
              "      <td>rosalina@piedpiper.com</td>\n",
              "      <td>belinda@finjob.com</td>\n",
              "      <td>Won</td>\n",
              "      <td>MG Special</td>\n",
              "      <td>45</td>\n",
              "      <td>2016-01-04</td>\n",
              "      <td>2016-11-02</td>\n",
              "      <td>303</td>\n",
              "    </tr>\n",
              "    <tr>\n",
              "      <th>2</th>\n",
              "      <td>Kinnamplus</td>\n",
              "      <td>N0ONCYVZ</td>\n",
              "      <td>Donn Cantrell</td>\n",
              "      <td>donn@piedpiper.com</td>\n",
              "      <td>monte@kinnamplus.com</td>\n",
              "      <td>Lost</td>\n",
              "      <td>MG Special</td>\n",
              "      <td>1054</td>\n",
              "      <td>2016-01-06</td>\n",
              "      <td>2016-12-07</td>\n",
              "      <td>336</td>\n",
              "    </tr>\n",
              "    <tr>\n",
              "      <th>3</th>\n",
              "      <td>Genco Pura Olive Oil Company</td>\n",
              "      <td>IBEUTCSW</td>\n",
              "      <td>James Ascencio</td>\n",
              "      <td>james@piedpiper.com</td>\n",
              "      <td>karole@gencopuraoliveoilcompany.com</td>\n",
              "      <td>In Progress</td>\n",
              "      <td>MG Advanced</td>\n",
              "      <td>1054</td>\n",
              "      <td>2016-01-06</td>\n",
              "      <td>2016-09-11</td>\n",
              "      <td>249</td>\n",
              "    </tr>\n",
              "    <tr>\n",
              "      <th>4</th>\n",
              "      <td>Initech</td>\n",
              "      <td>G8AO5FA2</td>\n",
              "      <td>Wilburn Farren</td>\n",
              "      <td>wilburn@piedpiper.com</td>\n",
              "      <td>alejandro@initech.com</td>\n",
              "      <td>Lost</td>\n",
              "      <td>MG Advanced</td>\n",
              "      <td>517</td>\n",
              "      <td>2016-01-06</td>\n",
              "      <td>2016-09-18</td>\n",
              "      <td>256</td>\n",
              "    </tr>\n",
              "    <tr>\n",
              "      <th>...</th>\n",
              "      <td>...</td>\n",
              "      <td>...</td>\n",
              "      <td>...</td>\n",
              "      <td>...</td>\n",
              "      <td>...</td>\n",
              "      <td>...</td>\n",
              "      <td>...</td>\n",
              "      <td>...</td>\n",
              "      <td>...</td>\n",
              "      <td>...</td>\n",
              "      <td>...</td>\n",
              "    </tr>\n",
              "    <tr>\n",
              "      <th>8795</th>\n",
              "      <td>Vehement Capital Partners</td>\n",
              "      <td>2BD1SDBX</td>\n",
              "      <td>Jonathan Berthelot</td>\n",
              "      <td>jonathan@piedpiper.com</td>\n",
              "      <td>lavonia@vehementcapitalpartners.com</td>\n",
              "      <td>In Progress</td>\n",
              "      <td>GTX Basic</td>\n",
              "      <td>590</td>\n",
              "      <td>2018-12-30</td>\n",
              "      <td>2019-07-22</td>\n",
              "      <td>204</td>\n",
              "    </tr>\n",
              "    <tr>\n",
              "      <th>8796</th>\n",
              "      <td>Hottechi</td>\n",
              "      <td>F1NWH30L</td>\n",
              "      <td>Marty Freudenburg</td>\n",
              "      <td>marty@piedpiper.com</td>\n",
              "      <td>juliette@hottechi.com</td>\n",
              "      <td>In Progress</td>\n",
              "      <td>MG Advanced</td>\n",
              "      <td>3284</td>\n",
              "      <td>2018-12-30</td>\n",
              "      <td>2019-05-26</td>\n",
              "      <td>147</td>\n",
              "    </tr>\n",
              "    <tr>\n",
              "      <th>8797</th>\n",
              "      <td>Umbrella Corporation</td>\n",
              "      <td>6KHIXTAD</td>\n",
              "      <td>Anna Snelling</td>\n",
              "      <td>anna@piedpiper.com</td>\n",
              "      <td>orpha@umbrellacorporation.com</td>\n",
              "      <td>In Progress</td>\n",
              "      <td>GTX Plus Pro</td>\n",
              "      <td>300</td>\n",
              "      <td>2018-12-31</td>\n",
              "      <td>2019-04-15</td>\n",
              "      <td>105</td>\n",
              "    </tr>\n",
              "    <tr>\n",
              "      <th>8798</th>\n",
              "      <td>Rundofase</td>\n",
              "      <td>BUOI3TBI</td>\n",
              "      <td>Gladys Colclough</td>\n",
              "      <td>gladys@piedpiper.com</td>\n",
              "      <td>crista@rundofase.com</td>\n",
              "      <td>In Progress</td>\n",
              "      <td>MG Special</td>\n",
              "      <td>3284</td>\n",
              "      <td>2018-12-31</td>\n",
              "      <td>2019-05-16</td>\n",
              "      <td>136</td>\n",
              "    </tr>\n",
              "    <tr>\n",
              "      <th>8799</th>\n",
              "      <td>Y-corporation</td>\n",
              "      <td>0QMDTHBS</td>\n",
              "      <td>Jonathan Berthelot</td>\n",
              "      <td>jonathan@piedpiper.com</td>\n",
              "      <td>rosanne@y-corporation.com</td>\n",
              "      <td>In Progress</td>\n",
              "      <td>MG Special</td>\n",
              "      <td>1014</td>\n",
              "      <td>2018-12-31</td>\n",
              "      <td>2019-08-01</td>\n",
              "      <td>213</td>\n",
              "    </tr>\n",
              "  </tbody>\n",
              "</table>\n",
              "<p>8800 rows × 11 columns</p>\n",
              "</div>"
            ],
            "text/plain": [
              "                           Account Opportunity_ID  ... Close Date DateDiff\n",
              "0                            Konex       3KR50X38  ... 2016-05-24      141\n",
              "1                           Finjob       YFS5KLJJ  ... 2016-11-02      303\n",
              "2                       Kinnamplus       N0ONCYVZ  ... 2016-12-07      336\n",
              "3     Genco Pura Olive Oil Company       IBEUTCSW  ... 2016-09-11      249\n",
              "4                          Initech       G8AO5FA2  ... 2016-09-18      256\n",
              "...                            ...            ...  ...        ...      ...\n",
              "8795     Vehement Capital Partners       2BD1SDBX  ... 2019-07-22      204\n",
              "8796                      Hottechi       F1NWH30L  ... 2019-05-26      147\n",
              "8797          Umbrella Corporation       6KHIXTAD  ... 2019-04-15      105\n",
              "8798                     Rundofase       BUOI3TBI  ... 2019-05-16      136\n",
              "8799                 Y-corporation       0QMDTHBS  ... 2019-08-01      213\n",
              "\n",
              "[8800 rows x 11 columns]"
            ]
          },
          "metadata": {
            "tags": []
          },
          "execution_count": 9
        }
      ]
    },
    {
      "cell_type": "markdown",
      "metadata": {
        "id": "9SLKpLDohEDr",
        "colab_type": "text"
      },
      "source": [
        "First Round of Cleaning text"
      ]
    },
    {
      "cell_type": "code",
      "metadata": {
        "id": "SCuQcUKyQ5sC",
        "colab_type": "code",
        "colab": {}
      },
      "source": [
        "def clean_text_round1(text):\n",
        "    '''Make text lowercase, remove text in square brackets, remove punctuation and remove words containing numbers.'''\n",
        "    text = text.lower()\n",
        "    text = re.sub('\\[.*?\\]', '', text)\n",
        "    text = re.sub('[%s]' % re.escape(string.punctuation), '', text)\n",
        "    text = re.sub('\\w*\\d\\w*', '', text)\n",
        "    return text\n",
        "\n",
        "round1 = lambda x: clean_text_round1(x)"
      ],
      "execution_count": 13,
      "outputs": []
    },
    {
      "cell_type": "code",
      "metadata": {
        "id": "b47H_2mQRAOS",
        "colab_type": "code",
        "colab": {
          "base_uri": "https://localhost:8080/",
          "height": 228
        },
        "outputId": "2c895426-d2f9-4cc5-931d-bb93de8cf3cc"
      },
      "source": [
        "df['Extracted Interaction Text'] = pd.DataFrame(df['Extracted Interaction Text'].apply(round1))\n",
        "df['Extracted Interaction Text']\n"
      ],
      "execution_count": 14,
      "outputs": [
        {
          "output_type": "execute_result",
          "data": {
            "text/plain": [
              "0         i thoroughly enjoyed your presentation yesterd...\n",
              "1         speaking with you and your staff will be a tre...\n",
              "2         however i am unable to join because of my fami...\n",
              "3         we are extremely sorry to inform you that we h...\n",
              "4              i dont think its possible for me to meet you\n",
              "                                ...                        \n",
              "316771    i hope you have all had a chance to look at ou...\n",
              "316772    im not convinced with the progress of the project\n",
              "316773    after spending nearly five years consulting fo...\n",
              "316774    we appreciate your interest in does english la...\n",
              "316775    in order to dispel any rumors the management w...\n",
              "Name: Extracted Interaction Text, Length: 316776, dtype: object"
            ]
          },
          "metadata": {
            "tags": []
          },
          "execution_count": 14
        }
      ]
    },
    {
      "cell_type": "markdown",
      "metadata": {
        "id": "m8vkaeMHhIjL",
        "colab_type": "text"
      },
      "source": [
        "Second Round of Cleaning"
      ]
    },
    {
      "cell_type": "code",
      "metadata": {
        "id": "2ffP-NJVRCmD",
        "colab_type": "code",
        "colab": {}
      },
      "source": [
        "# Apply a second round of cleaning\n",
        "def clean_text_round2(text):\n",
        "    '''Get rid of some additional punctuation and non-sensical text that was missed the first time around.'''\n",
        "    text = re.sub('[‘’“”…]', '', text)\n",
        "    text = re.sub('\\n', '', text)\n",
        "    return text\n",
        "\n",
        "round2 = lambda x: clean_text_round2(x)"
      ],
      "execution_count": 15,
      "outputs": []
    },
    {
      "cell_type": "code",
      "metadata": {
        "id": "vRAY8oVpRdo6",
        "colab_type": "code",
        "colab": {
          "base_uri": "https://localhost:8080/",
          "height": 228
        },
        "outputId": "e6eefe66-6dd9-4d95-f0cf-f04c26c44158"
      },
      "source": [
        "df['Extracted Interaction Text'] = pd.DataFrame(df['Extracted Interaction Text'].apply(round2))\n",
        "df['Extracted Interaction Text']"
      ],
      "execution_count": 16,
      "outputs": [
        {
          "output_type": "execute_result",
          "data": {
            "text/plain": [
              "0         i thoroughly enjoyed your presentation yesterd...\n",
              "1         speaking with you and your staff will be a tre...\n",
              "2         however i am unable to join because of my fami...\n",
              "3         we are extremely sorry to inform you that we h...\n",
              "4              i dont think its possible for me to meet you\n",
              "                                ...                        \n",
              "316771    i hope you have all had a chance to look at ou...\n",
              "316772    im not convinced with the progress of the project\n",
              "316773    after spending nearly five years consulting fo...\n",
              "316774    we appreciate your interest in does english la...\n",
              "316775    in order to dispel any rumors the management w...\n",
              "Name: Extracted Interaction Text, Length: 316776, dtype: object"
            ]
          },
          "metadata": {
            "tags": []
          },
          "execution_count": 16
        }
      ]
    },
    {
      "cell_type": "markdown",
      "metadata": {
        "id": "EFla5O_XhLTa",
        "colab_type": "text"
      },
      "source": [
        "Analysing polarity and subjectivity and deciding the score"
      ]
    },
    {
      "cell_type": "code",
      "metadata": {
        "id": "XqDXcae2Rguz",
        "colab_type": "code",
        "colab": {}
      },
      "source": [
        "from textblob import TextBlob\n",
        "\n",
        "pol = lambda x: round(TextBlob(x).sentiment.polarity,2)\n",
        "sub = lambda x: round(TextBlob(x).sentiment.subjectivity,2)\n",
        "PosNeg= lambda x:'Positive'if x > 0 else ('Neutral'if x==0 else 'Negative')\n",
        "\n",
        "\n",
        "df['Polarity'] = df['Extracted Interaction Text'].apply(pol)\n",
        "df['Subjectivity'] = df['Extracted Interaction Text'].apply(sub)\n",
        "df['Positive/Negative Rating'] = df['Polarity'].apply(PosNeg)\n",
        "df['Score']=round(df['Polarity']*df['Subjectivity'],2)*5"
      ],
      "execution_count": 70,
      "outputs": []
    },
    {
      "cell_type": "markdown",
      "metadata": {
        "id": "ICc5aTAcha3N",
        "colab_type": "text"
      },
      "source": [
        "Checking if any emails/ calls /sms have been made between themselves"
      ]
    },
    {
      "cell_type": "code",
      "metadata": {
        "id": "5awudBwSTttb",
        "colab_type": "code",
        "colab": {
          "base_uri": "https://localhost:8080/",
          "height": 246
        },
        "outputId": "be4da075-42e9-4cb3-e0c2-54a5eb145ff5"
      },
      "source": [
        "df[df['fromEmailId']==df['toEmailId']].count()"
      ],
      "execution_count": 20,
      "outputs": [
        {
          "output_type": "execute_result",
          "data": {
            "text/plain": [
              "interactionID                      158388\n",
              "fromEmailId                        158388\n",
              "toEmailId                          158388\n",
              "InteractionDate                    158388\n",
              "InteractionType(Call/Email/SMS)    158388\n",
              "Extracted Interaction Text         158388\n",
              "Polarity                           158388\n",
              "Subjectivity                       158388\n",
              "Positive/Negative Rating           158388\n",
              "Score                              158388\n",
              "Year                               158388\n",
              "Month                              158388\n",
              "dtype: int64"
            ]
          },
          "metadata": {
            "tags": []
          },
          "execution_count": 20
        }
      ]
    },
    {
      "cell_type": "markdown",
      "metadata": {
        "id": "K9tSPAkVgd2K",
        "colab_type": "text"
      },
      "source": [
        "Dropping all emails/calls/sms where the fromEmailID and toEmailID are the same."
      ]
    },
    {
      "cell_type": "code",
      "metadata": {
        "id": "thZT7R4TTzO9",
        "colab_type": "code",
        "colab": {}
      },
      "source": [
        "df.drop(df[df['fromEmailId'] ==df['toEmailId']].index, inplace = True) "
      ],
      "execution_count": 21,
      "outputs": []
    },
    {
      "cell_type": "markdown",
      "metadata": {
        "id": "us1lajr3hpXz",
        "colab_type": "text"
      },
      "source": [
        "Creating a unique ID with fromEmail and toEmail"
      ]
    },
    {
      "cell_type": "code",
      "metadata": {
        "id": "tX_NRAnsUIs8",
        "colab_type": "code",
        "colab": {}
      },
      "source": [
        "df['UniqueID']=df['fromEmailId']+'_'+df['toEmailId']"
      ],
      "execution_count": 23,
      "outputs": []
    },
    {
      "cell_type": "markdown",
      "metadata": {
        "id": "OJummdXShuXh",
        "colab_type": "text"
      },
      "source": [
        "Setting the firsttable which contains data for the model to train on (before 01-10-2017)"
      ]
    },
    {
      "cell_type": "code",
      "metadata": {
        "id": "HFc1HqYrUAEL",
        "colab_type": "code",
        "colab": {}
      },
      "source": [
        "firstTable=df[df['InteractionDate'] <= '2017-10-01']"
      ],
      "execution_count": 24,
      "outputs": []
    },
    {
      "cell_type": "markdown",
      "metadata": {
        "id": "FHExAMeIiRfM",
        "colab_type": "text"
      },
      "source": [
        "Setting the second table for training"
      ]
    },
    {
      "cell_type": "code",
      "metadata": {
        "id": "412p30amWeJz",
        "colab_type": "code",
        "colab": {
          "base_uri": "https://localhost:8080/",
          "height": 623
        },
        "outputId": "4e72a28e-9220-49ee-c470-ed1c6de8c12b"
      },
      "source": [
        "Test_sales=sales_df\n",
        "Test_sales['UniqueID']=Test_sales['SalesAgentEmailID']+'_'+Test_sales['ContactEmailID']\n",
        "secondTable=Test_sales[Test_sales['Close Date'] <= '2017-10-01']\n",
        "secondTable"
      ],
      "execution_count": 71,
      "outputs": [
        {
          "output_type": "execute_result",
          "data": {
            "text/html": [
              "<div>\n",
              "<style scoped>\n",
              "    .dataframe tbody tr th:only-of-type {\n",
              "        vertical-align: middle;\n",
              "    }\n",
              "\n",
              "    .dataframe tbody tr th {\n",
              "        vertical-align: top;\n",
              "    }\n",
              "\n",
              "    .dataframe thead th {\n",
              "        text-align: right;\n",
              "    }\n",
              "</style>\n",
              "<table border=\"1\" class=\"dataframe\">\n",
              "  <thead>\n",
              "    <tr style=\"text-align: right;\">\n",
              "      <th></th>\n",
              "      <th>Account</th>\n",
              "      <th>Opportunity_ID</th>\n",
              "      <th>Sales_Agent</th>\n",
              "      <th>SalesAgentEmailID</th>\n",
              "      <th>ContactEmailID</th>\n",
              "      <th>Deal_Stage</th>\n",
              "      <th>Product</th>\n",
              "      <th>Close_Value</th>\n",
              "      <th>Created Date</th>\n",
              "      <th>Close Date</th>\n",
              "      <th>DateDiff</th>\n",
              "      <th>UniqueID</th>\n",
              "    </tr>\n",
              "  </thead>\n",
              "  <tbody>\n",
              "    <tr>\n",
              "      <th>0</th>\n",
              "      <td>Konex</td>\n",
              "      <td>3KR50X38</td>\n",
              "      <td>Corliss Cosme</td>\n",
              "      <td>corliss@piedpiper.com</td>\n",
              "      <td>delila@konex.com</td>\n",
              "      <td>Won</td>\n",
              "      <td>GTX Plus Basic</td>\n",
              "      <td>1255</td>\n",
              "      <td>2016-01-04</td>\n",
              "      <td>2016-05-24</td>\n",
              "      <td>141</td>\n",
              "      <td>corliss@piedpiper.com_delila@konex.com</td>\n",
              "    </tr>\n",
              "    <tr>\n",
              "      <th>1</th>\n",
              "      <td>Finjob</td>\n",
              "      <td>YFS5KLJJ</td>\n",
              "      <td>Rosalina Dieter</td>\n",
              "      <td>rosalina@piedpiper.com</td>\n",
              "      <td>belinda@finjob.com</td>\n",
              "      <td>Won</td>\n",
              "      <td>MG Special</td>\n",
              "      <td>45</td>\n",
              "      <td>2016-01-04</td>\n",
              "      <td>2016-11-02</td>\n",
              "      <td>303</td>\n",
              "      <td>rosalina@piedpiper.com_belinda@finjob.com</td>\n",
              "    </tr>\n",
              "    <tr>\n",
              "      <th>2</th>\n",
              "      <td>Kinnamplus</td>\n",
              "      <td>N0ONCYVZ</td>\n",
              "      <td>Donn Cantrell</td>\n",
              "      <td>donn@piedpiper.com</td>\n",
              "      <td>monte@kinnamplus.com</td>\n",
              "      <td>Lost</td>\n",
              "      <td>MG Special</td>\n",
              "      <td>1054</td>\n",
              "      <td>2016-01-06</td>\n",
              "      <td>2016-12-07</td>\n",
              "      <td>336</td>\n",
              "      <td>donn@piedpiper.com_monte@kinnamplus.com</td>\n",
              "    </tr>\n",
              "    <tr>\n",
              "      <th>3</th>\n",
              "      <td>Genco Pura Olive Oil Company</td>\n",
              "      <td>IBEUTCSW</td>\n",
              "      <td>James Ascencio</td>\n",
              "      <td>james@piedpiper.com</td>\n",
              "      <td>karole@gencopuraoliveoilcompany.com</td>\n",
              "      <td>In Progress</td>\n",
              "      <td>MG Advanced</td>\n",
              "      <td>1054</td>\n",
              "      <td>2016-01-06</td>\n",
              "      <td>2016-09-11</td>\n",
              "      <td>249</td>\n",
              "      <td>james@piedpiper.com_karole@gencopuraoliveoilco...</td>\n",
              "    </tr>\n",
              "    <tr>\n",
              "      <th>4</th>\n",
              "      <td>Initech</td>\n",
              "      <td>G8AO5FA2</td>\n",
              "      <td>Wilburn Farren</td>\n",
              "      <td>wilburn@piedpiper.com</td>\n",
              "      <td>alejandro@initech.com</td>\n",
              "      <td>Lost</td>\n",
              "      <td>MG Advanced</td>\n",
              "      <td>517</td>\n",
              "      <td>2016-01-06</td>\n",
              "      <td>2016-09-18</td>\n",
              "      <td>256</td>\n",
              "      <td>wilburn@piedpiper.com_alejandro@initech.com</td>\n",
              "    </tr>\n",
              "    <tr>\n",
              "      <th>...</th>\n",
              "      <td>...</td>\n",
              "      <td>...</td>\n",
              "      <td>...</td>\n",
              "      <td>...</td>\n",
              "      <td>...</td>\n",
              "      <td>...</td>\n",
              "      <td>...</td>\n",
              "      <td>...</td>\n",
              "      <td>...</td>\n",
              "      <td>...</td>\n",
              "      <td>...</td>\n",
              "      <td>...</td>\n",
              "    </tr>\n",
              "    <tr>\n",
              "      <th>6099</th>\n",
              "      <td>Inity</td>\n",
              "      <td>1O72EKFY</td>\n",
              "      <td>James Ascencio</td>\n",
              "      <td>james@piedpiper.com</td>\n",
              "      <td>palmira@inity.com</td>\n",
              "      <td>In Progress</td>\n",
              "      <td>GTX Plus Pro</td>\n",
              "      <td>3180</td>\n",
              "      <td>2017-09-22</td>\n",
              "      <td>2017-09-30</td>\n",
              "      <td>8</td>\n",
              "      <td>james@piedpiper.com_palmira@inity.com</td>\n",
              "    </tr>\n",
              "    <tr>\n",
              "      <th>6116</th>\n",
              "      <td>Massive Dynamic</td>\n",
              "      <td>HTA6XLY3</td>\n",
              "      <td>Reed Clapper</td>\n",
              "      <td>reed@piedpiper.com</td>\n",
              "      <td>gertrude@massivedynamic.com</td>\n",
              "      <td>Won</td>\n",
              "      <td>MG Special</td>\n",
              "      <td>54</td>\n",
              "      <td>2017-09-23</td>\n",
              "      <td>2017-09-26</td>\n",
              "      <td>3</td>\n",
              "      <td>reed@piedpiper.com_gertrude@massivedynamic.com</td>\n",
              "    </tr>\n",
              "    <tr>\n",
              "      <th>6156</th>\n",
              "      <td>Goodsilron</td>\n",
              "      <td>U85VV1BU</td>\n",
              "      <td>Kary Hendrixson</td>\n",
              "      <td>kary@piedpiper.com</td>\n",
              "      <td>claribel@goodsilron.com</td>\n",
              "      <td>Won</td>\n",
              "      <td>GTX Basic</td>\n",
              "      <td>568</td>\n",
              "      <td>2017-09-25</td>\n",
              "      <td>2017-09-27</td>\n",
              "      <td>2</td>\n",
              "      <td>kary@piedpiper.com_claribel@goodsilron.com</td>\n",
              "    </tr>\n",
              "    <tr>\n",
              "      <th>6162</th>\n",
              "      <td>Condax</td>\n",
              "      <td>I6U62W0R</td>\n",
              "      <td>Kami Bicknell</td>\n",
              "      <td>kami@piedpiper.com</td>\n",
              "      <td>golda@condax.com</td>\n",
              "      <td>In Progress</td>\n",
              "      <td>GTX Basic</td>\n",
              "      <td>50</td>\n",
              "      <td>2017-09-25</td>\n",
              "      <td>2017-09-30</td>\n",
              "      <td>5</td>\n",
              "      <td>kami@piedpiper.com_golda@condax.com</td>\n",
              "    </tr>\n",
              "    <tr>\n",
              "      <th>6214</th>\n",
              "      <td>Hottechi</td>\n",
              "      <td>99L2TNR5</td>\n",
              "      <td>Gladys Colclough</td>\n",
              "      <td>gladys@piedpiper.com</td>\n",
              "      <td>juliette@hottechi.com</td>\n",
              "      <td>Won</td>\n",
              "      <td>MG Advanced</td>\n",
              "      <td>3339</td>\n",
              "      <td>2017-09-27</td>\n",
              "      <td>2017-09-27</td>\n",
              "      <td>0</td>\n",
              "      <td>gladys@piedpiper.com_juliette@hottechi.com</td>\n",
              "    </tr>\n",
              "  </tbody>\n",
              "</table>\n",
              "<p>2459 rows × 12 columns</p>\n",
              "</div>"
            ],
            "text/plain": [
              "                           Account  ...                                           UniqueID\n",
              "0                            Konex  ...             corliss@piedpiper.com_delila@konex.com\n",
              "1                           Finjob  ...          rosalina@piedpiper.com_belinda@finjob.com\n",
              "2                       Kinnamplus  ...            donn@piedpiper.com_monte@kinnamplus.com\n",
              "3     Genco Pura Olive Oil Company  ...  james@piedpiper.com_karole@gencopuraoliveoilco...\n",
              "4                          Initech  ...        wilburn@piedpiper.com_alejandro@initech.com\n",
              "...                            ...  ...                                                ...\n",
              "6099                         Inity  ...              james@piedpiper.com_palmira@inity.com\n",
              "6116               Massive Dynamic  ...     reed@piedpiper.com_gertrude@massivedynamic.com\n",
              "6156                    Goodsilron  ...         kary@piedpiper.com_claribel@goodsilron.com\n",
              "6162                        Condax  ...                kami@piedpiper.com_golda@condax.com\n",
              "6214                      Hottechi  ...         gladys@piedpiper.com_juliette@hottechi.com\n",
              "\n",
              "[2459 rows x 12 columns]"
            ]
          },
          "metadata": {
            "tags": []
          },
          "execution_count": 71
        }
      ]
    },
    {
      "cell_type": "markdown",
      "metadata": {
        "id": "2d3An9xhifwE",
        "colab_type": "text"
      },
      "source": [
        "Dropping unwanted columns"
      ]
    },
    {
      "cell_type": "code",
      "metadata": {
        "id": "jIJA2G4OZFe0",
        "colab_type": "code",
        "colab": {
          "base_uri": "https://localhost:8080/",
          "height": 105
        },
        "outputId": "2388642a-76f4-4039-aeab-21d3fababa34"
      },
      "source": [
        "secondTable.drop(columns=['Sales_Agent','SalesAgentEmailID','ContactEmailID'],inplace=True)"
      ],
      "execution_count": 30,
      "outputs": [
        {
          "output_type": "stream",
          "text": [
            "/usr/local/lib/python3.6/dist-packages/pandas/core/frame.py:3997: SettingWithCopyWarning: \n",
            "A value is trying to be set on a copy of a slice from a DataFrame\n",
            "\n",
            "See the caveats in the documentation: https://pandas.pydata.org/pandas-docs/stable/user_guide/indexing.html#returning-a-view-versus-a-copy\n",
            "  errors=errors,\n"
          ],
          "name": "stderr"
        }
      ]
    },
    {
      "cell_type": "markdown",
      "metadata": {
        "id": "L73pBLBsiinI",
        "colab_type": "text"
      },
      "source": [
        "Merging the two tables"
      ]
    },
    {
      "cell_type": "code",
      "metadata": {
        "id": "gf4ezBEHZJ3t",
        "colab_type": "code",
        "colab": {
          "base_uri": "https://localhost:8080/",
          "height": 959
        },
        "outputId": "9d894d8e-928a-45a9-d11c-d994d7e2fd8e"
      },
      "source": [
        "thirdTable= pd.merge(firstTable,secondTable)\n",
        "thirdTable"
      ],
      "execution_count": 31,
      "outputs": [
        {
          "output_type": "execute_result",
          "data": {
            "text/html": [
              "<div>\n",
              "<style scoped>\n",
              "    .dataframe tbody tr th:only-of-type {\n",
              "        vertical-align: middle;\n",
              "    }\n",
              "\n",
              "    .dataframe tbody tr th {\n",
              "        vertical-align: top;\n",
              "    }\n",
              "\n",
              "    .dataframe thead th {\n",
              "        text-align: right;\n",
              "    }\n",
              "</style>\n",
              "<table border=\"1\" class=\"dataframe\">\n",
              "  <thead>\n",
              "    <tr style=\"text-align: right;\">\n",
              "      <th></th>\n",
              "      <th>interactionID</th>\n",
              "      <th>fromEmailId</th>\n",
              "      <th>toEmailId</th>\n",
              "      <th>InteractionDate</th>\n",
              "      <th>InteractionType(Call/Email/SMS)</th>\n",
              "      <th>Extracted Interaction Text</th>\n",
              "      <th>Polarity</th>\n",
              "      <th>Subjectivity</th>\n",
              "      <th>Positive/Negative Rating</th>\n",
              "      <th>Score</th>\n",
              "      <th>Year</th>\n",
              "      <th>Month</th>\n",
              "      <th>UniqueID</th>\n",
              "      <th>Account</th>\n",
              "      <th>Opportunity_ID</th>\n",
              "      <th>Deal_Stage</th>\n",
              "      <th>Product</th>\n",
              "      <th>Close_Value</th>\n",
              "      <th>Created Date</th>\n",
              "      <th>Close Date</th>\n",
              "      <th>DateDiff</th>\n",
              "    </tr>\n",
              "  </thead>\n",
              "  <tbody>\n",
              "    <tr>\n",
              "      <th>0</th>\n",
              "      <td>8842411</td>\n",
              "      <td>gladys@piedpiper.com</td>\n",
              "      <td>kristle@dontechi.com</td>\n",
              "      <td>2016-01-04</td>\n",
              "      <td>Call</td>\n",
              "      <td>i thoroughly enjoyed your presentation yesterd...</td>\n",
              "      <td>0.46</td>\n",
              "      <td>0.72</td>\n",
              "      <td>Positive</td>\n",
              "      <td>1.65</td>\n",
              "      <td>2016</td>\n",
              "      <td>1</td>\n",
              "      <td>gladys@piedpiper.com_kristle@dontechi.com</td>\n",
              "      <td>Dontechi</td>\n",
              "      <td>N5AZLQZR</td>\n",
              "      <td>Won</td>\n",
              "      <td>GTX Plus Pro</td>\n",
              "      <td>5533</td>\n",
              "      <td>2016-12-12</td>\n",
              "      <td>2017-07-23</td>\n",
              "      <td>223</td>\n",
              "    </tr>\n",
              "    <tr>\n",
              "      <th>1</th>\n",
              "      <td>8842411</td>\n",
              "      <td>gladys@piedpiper.com</td>\n",
              "      <td>kristle@dontechi.com</td>\n",
              "      <td>2016-01-04</td>\n",
              "      <td>Call</td>\n",
              "      <td>i thoroughly enjoyed your presentation yesterd...</td>\n",
              "      <td>0.46</td>\n",
              "      <td>0.72</td>\n",
              "      <td>Positive</td>\n",
              "      <td>1.65</td>\n",
              "      <td>2016</td>\n",
              "      <td>1</td>\n",
              "      <td>gladys@piedpiper.com_kristle@dontechi.com</td>\n",
              "      <td>Dontechi</td>\n",
              "      <td>4A189ZAB</td>\n",
              "      <td>Won</td>\n",
              "      <td>GTXPro</td>\n",
              "      <td>5142</td>\n",
              "      <td>2017-03-17</td>\n",
              "      <td>2017-04-19</td>\n",
              "      <td>33</td>\n",
              "    </tr>\n",
              "    <tr>\n",
              "      <th>2</th>\n",
              "      <td>2845985</td>\n",
              "      <td>gladys@piedpiper.com</td>\n",
              "      <td>kristle@dontechi.com</td>\n",
              "      <td>2016-01-16</td>\n",
              "      <td>Email</td>\n",
              "      <td>we want you to know that we are very pleased w...</td>\n",
              "      <td>0.57</td>\n",
              "      <td>0.75</td>\n",
              "      <td>Positive</td>\n",
              "      <td>2.15</td>\n",
              "      <td>2016</td>\n",
              "      <td>1</td>\n",
              "      <td>gladys@piedpiper.com_kristle@dontechi.com</td>\n",
              "      <td>Dontechi</td>\n",
              "      <td>N5AZLQZR</td>\n",
              "      <td>Won</td>\n",
              "      <td>GTX Plus Pro</td>\n",
              "      <td>5533</td>\n",
              "      <td>2016-12-12</td>\n",
              "      <td>2017-07-23</td>\n",
              "      <td>223</td>\n",
              "    </tr>\n",
              "    <tr>\n",
              "      <th>3</th>\n",
              "      <td>2845985</td>\n",
              "      <td>gladys@piedpiper.com</td>\n",
              "      <td>kristle@dontechi.com</td>\n",
              "      <td>2016-01-16</td>\n",
              "      <td>Email</td>\n",
              "      <td>we want you to know that we are very pleased w...</td>\n",
              "      <td>0.57</td>\n",
              "      <td>0.75</td>\n",
              "      <td>Positive</td>\n",
              "      <td>2.15</td>\n",
              "      <td>2016</td>\n",
              "      <td>1</td>\n",
              "      <td>gladys@piedpiper.com_kristle@dontechi.com</td>\n",
              "      <td>Dontechi</td>\n",
              "      <td>4A189ZAB</td>\n",
              "      <td>Won</td>\n",
              "      <td>GTXPro</td>\n",
              "      <td>5142</td>\n",
              "      <td>2017-03-17</td>\n",
              "      <td>2017-04-19</td>\n",
              "      <td>33</td>\n",
              "    </tr>\n",
              "    <tr>\n",
              "      <th>4</th>\n",
              "      <td>4920385</td>\n",
              "      <td>gladys@piedpiper.com</td>\n",
              "      <td>kristle@dontechi.com</td>\n",
              "      <td>2016-01-23</td>\n",
              "      <td>Call</td>\n",
              "      <td>hope everything is fine at your end</td>\n",
              "      <td>0.42</td>\n",
              "      <td>0.50</td>\n",
              "      <td>Positive</td>\n",
              "      <td>1.05</td>\n",
              "      <td>2016</td>\n",
              "      <td>1</td>\n",
              "      <td>gladys@piedpiper.com_kristle@dontechi.com</td>\n",
              "      <td>Dontechi</td>\n",
              "      <td>N5AZLQZR</td>\n",
              "      <td>Won</td>\n",
              "      <td>GTX Plus Pro</td>\n",
              "      <td>5533</td>\n",
              "      <td>2016-12-12</td>\n",
              "      <td>2017-07-23</td>\n",
              "      <td>223</td>\n",
              "    </tr>\n",
              "    <tr>\n",
              "      <th>...</th>\n",
              "      <td>...</td>\n",
              "      <td>...</td>\n",
              "      <td>...</td>\n",
              "      <td>...</td>\n",
              "      <td>...</td>\n",
              "      <td>...</td>\n",
              "      <td>...</td>\n",
              "      <td>...</td>\n",
              "      <td>...</td>\n",
              "      <td>...</td>\n",
              "      <td>...</td>\n",
              "      <td>...</td>\n",
              "      <td>...</td>\n",
              "      <td>...</td>\n",
              "      <td>...</td>\n",
              "      <td>...</td>\n",
              "      <td>...</td>\n",
              "      <td>...</td>\n",
              "      <td>...</td>\n",
              "      <td>...</td>\n",
              "      <td>...</td>\n",
              "    </tr>\n",
              "    <tr>\n",
              "      <th>117400</th>\n",
              "      <td>3423094</td>\n",
              "      <td>elease@piedpiper.com</td>\n",
              "      <td>ursula@sumace.com</td>\n",
              "      <td>2017-08-11</td>\n",
              "      <td>Email</td>\n",
              "      <td>thank you for taking time from your busy sched...</td>\n",
              "      <td>0.05</td>\n",
              "      <td>0.15</td>\n",
              "      <td>Positive</td>\n",
              "      <td>0.05</td>\n",
              "      <td>2017</td>\n",
              "      <td>8</td>\n",
              "      <td>elease@piedpiper.com_ursula@sumace.com</td>\n",
              "      <td>Sumace</td>\n",
              "      <td>E29GOFUV</td>\n",
              "      <td>In Progress</td>\n",
              "      <td>MG Special</td>\n",
              "      <td>589</td>\n",
              "      <td>2017-03-29</td>\n",
              "      <td>2017-05-12</td>\n",
              "      <td>44</td>\n",
              "    </tr>\n",
              "    <tr>\n",
              "      <th>117401</th>\n",
              "      <td>4466738</td>\n",
              "      <td>elease@piedpiper.com</td>\n",
              "      <td>ursula@sumace.com</td>\n",
              "      <td>2017-08-16</td>\n",
              "      <td>Email</td>\n",
              "      <td>regrettably recent cutbacks in federally spons...</td>\n",
              "      <td>0.09</td>\n",
              "      <td>0.36</td>\n",
              "      <td>Positive</td>\n",
              "      <td>0.15</td>\n",
              "      <td>2017</td>\n",
              "      <td>8</td>\n",
              "      <td>elease@piedpiper.com_ursula@sumace.com</td>\n",
              "      <td>Sumace</td>\n",
              "      <td>E29GOFUV</td>\n",
              "      <td>In Progress</td>\n",
              "      <td>MG Special</td>\n",
              "      <td>589</td>\n",
              "      <td>2017-03-29</td>\n",
              "      <td>2017-05-12</td>\n",
              "      <td>44</td>\n",
              "    </tr>\n",
              "    <tr>\n",
              "      <th>117402</th>\n",
              "      <td>3165036</td>\n",
              "      <td>elease@piedpiper.com</td>\n",
              "      <td>cassy@bioplex.com</td>\n",
              "      <td>2016-09-09</td>\n",
              "      <td>Email</td>\n",
              "      <td>my calendar is blocked tomorrow</td>\n",
              "      <td>0.00</td>\n",
              "      <td>0.00</td>\n",
              "      <td>Neutral</td>\n",
              "      <td>0.00</td>\n",
              "      <td>2016</td>\n",
              "      <td>9</td>\n",
              "      <td>elease@piedpiper.com_cassy@bioplex.com</td>\n",
              "      <td>Bioplex</td>\n",
              "      <td>7DOGGIXI</td>\n",
              "      <td>In Progress</td>\n",
              "      <td>MG Special</td>\n",
              "      <td>1026</td>\n",
              "      <td>2017-03-23</td>\n",
              "      <td>2017-05-16</td>\n",
              "      <td>54</td>\n",
              "    </tr>\n",
              "    <tr>\n",
              "      <th>117403</th>\n",
              "      <td>2632988</td>\n",
              "      <td>elease@piedpiper.com</td>\n",
              "      <td>cassy@bioplex.com</td>\n",
              "      <td>2016-09-24</td>\n",
              "      <td>Call</td>\n",
              "      <td>thank you for your prompt deliveries to our ms...</td>\n",
              "      <td>0.00</td>\n",
              "      <td>0.00</td>\n",
              "      <td>Neutral</td>\n",
              "      <td>0.00</td>\n",
              "      <td>2016</td>\n",
              "      <td>9</td>\n",
              "      <td>elease@piedpiper.com_cassy@bioplex.com</td>\n",
              "      <td>Bioplex</td>\n",
              "      <td>7DOGGIXI</td>\n",
              "      <td>In Progress</td>\n",
              "      <td>MG Special</td>\n",
              "      <td>1026</td>\n",
              "      <td>2017-03-23</td>\n",
              "      <td>2017-05-16</td>\n",
              "      <td>54</td>\n",
              "    </tr>\n",
              "    <tr>\n",
              "      <th>117404</th>\n",
              "      <td>5843520</td>\n",
              "      <td>elease@piedpiper.com</td>\n",
              "      <td>cassy@bioplex.com</td>\n",
              "      <td>2017-03-10</td>\n",
              "      <td>Email</td>\n",
              "      <td>i am sorry to inform you that i have decided t...</td>\n",
              "      <td>0.07</td>\n",
              "      <td>0.55</td>\n",
              "      <td>Positive</td>\n",
              "      <td>0.20</td>\n",
              "      <td>2017</td>\n",
              "      <td>3</td>\n",
              "      <td>elease@piedpiper.com_cassy@bioplex.com</td>\n",
              "      <td>Bioplex</td>\n",
              "      <td>7DOGGIXI</td>\n",
              "      <td>In Progress</td>\n",
              "      <td>MG Special</td>\n",
              "      <td>1026</td>\n",
              "      <td>2017-03-23</td>\n",
              "      <td>2017-05-16</td>\n",
              "      <td>54</td>\n",
              "    </tr>\n",
              "  </tbody>\n",
              "</table>\n",
              "<p>117405 rows × 21 columns</p>\n",
              "</div>"
            ],
            "text/plain": [
              "        interactionID           fromEmailId  ... Close Date DateDiff\n",
              "0             8842411  gladys@piedpiper.com  ... 2017-07-23      223\n",
              "1             8842411  gladys@piedpiper.com  ... 2017-04-19       33\n",
              "2             2845985  gladys@piedpiper.com  ... 2017-07-23      223\n",
              "3             2845985  gladys@piedpiper.com  ... 2017-04-19       33\n",
              "4             4920385  gladys@piedpiper.com  ... 2017-07-23      223\n",
              "...               ...                   ...  ...        ...      ...\n",
              "117400        3423094  elease@piedpiper.com  ... 2017-05-12       44\n",
              "117401        4466738  elease@piedpiper.com  ... 2017-05-12       44\n",
              "117402        3165036  elease@piedpiper.com  ... 2017-05-16       54\n",
              "117403        2632988  elease@piedpiper.com  ... 2017-05-16       54\n",
              "117404        5843520  elease@piedpiper.com  ... 2017-05-16       54\n",
              "\n",
              "[117405 rows x 21 columns]"
            ]
          },
          "metadata": {
            "tags": []
          },
          "execution_count": 31
        }
      ]
    },
    {
      "cell_type": "markdown",
      "metadata": {
        "id": "AfUgUlhwitC8",
        "colab_type": "text"
      },
      "source": [
        "Dropping unwanted columns"
      ]
    },
    {
      "cell_type": "code",
      "metadata": {
        "id": "BlzKHeh5ZRTb",
        "colab_type": "code",
        "colab": {}
      },
      "source": [
        "thirdTable.drop(columns=['Year','Month','Positive/Negative Rating'],inplace=True)"
      ],
      "execution_count": 32,
      "outputs": []
    },
    {
      "cell_type": "markdown",
      "metadata": {
        "id": "AIZZhKn8iwwG",
        "colab_type": "text"
      },
      "source": [
        "Refactoring a new Unique ID"
      ]
    },
    {
      "cell_type": "code",
      "metadata": {
        "id": "7erp6SCAZbbM",
        "colab_type": "code",
        "colab": {
          "base_uri": "https://localhost:8080/",
          "height": 351
        },
        "outputId": "95c53119-2fc4-4a8c-d0a4-b3a955f27c41"
      },
      "source": [
        "thirdTable['UniqueID']=thirdTable['UniqueID']+thirdTable['Opportunity_ID']\n",
        "thirdTable.count()"
      ],
      "execution_count": 33,
      "outputs": [
        {
          "output_type": "execute_result",
          "data": {
            "text/plain": [
              "interactionID                      117405\n",
              "fromEmailId                        117405\n",
              "toEmailId                          117405\n",
              "InteractionDate                    117405\n",
              "InteractionType(Call/Email/SMS)    117405\n",
              "Extracted Interaction Text         117405\n",
              "Polarity                           117405\n",
              "Subjectivity                       117405\n",
              "Score                              117405\n",
              "UniqueID                           117405\n",
              "Account                            117405\n",
              "Opportunity_ID                     117405\n",
              "Deal_Stage                         117405\n",
              "Product                            117405\n",
              "Close_Value                        117405\n",
              "Created Date                       117405\n",
              "Close Date                         117405\n",
              "DateDiff                           117405\n",
              "dtype: int64"
            ]
          },
          "metadata": {
            "tags": []
          },
          "execution_count": 33
        }
      ]
    },
    {
      "cell_type": "markdown",
      "metadata": {
        "id": "Qfxv2trWi3Wp",
        "colab_type": "text"
      },
      "source": [
        "Checking if the interaction date is between the created date and close date so as to narrow the conversation to only for that opportunity"
      ]
    },
    {
      "cell_type": "code",
      "metadata": {
        "id": "XfEYOtVAZr8T",
        "colab_type": "code",
        "colab": {
          "base_uri": "https://localhost:8080/",
          "height": 993
        },
        "outputId": "619bbff5-d85b-45d2-80cf-21f8d291140e"
      },
      "source": [
        "userVotes = thirdTable[(thirdTable['Created Date'] <= thirdTable['InteractionDate']) &(thirdTable['InteractionDate'] <= thirdTable['Close Date'])]\n",
        "userVotes"
      ],
      "execution_count": 34,
      "outputs": [
        {
          "output_type": "execute_result",
          "data": {
            "text/html": [
              "<div>\n",
              "<style scoped>\n",
              "    .dataframe tbody tr th:only-of-type {\n",
              "        vertical-align: middle;\n",
              "    }\n",
              "\n",
              "    .dataframe tbody tr th {\n",
              "        vertical-align: top;\n",
              "    }\n",
              "\n",
              "    .dataframe thead th {\n",
              "        text-align: right;\n",
              "    }\n",
              "</style>\n",
              "<table border=\"1\" class=\"dataframe\">\n",
              "  <thead>\n",
              "    <tr style=\"text-align: right;\">\n",
              "      <th></th>\n",
              "      <th>interactionID</th>\n",
              "      <th>fromEmailId</th>\n",
              "      <th>toEmailId</th>\n",
              "      <th>InteractionDate</th>\n",
              "      <th>InteractionType(Call/Email/SMS)</th>\n",
              "      <th>Extracted Interaction Text</th>\n",
              "      <th>Polarity</th>\n",
              "      <th>Subjectivity</th>\n",
              "      <th>Score</th>\n",
              "      <th>UniqueID</th>\n",
              "      <th>Account</th>\n",
              "      <th>Opportunity_ID</th>\n",
              "      <th>Deal_Stage</th>\n",
              "      <th>Product</th>\n",
              "      <th>Close_Value</th>\n",
              "      <th>Created Date</th>\n",
              "      <th>Close Date</th>\n",
              "      <th>DateDiff</th>\n",
              "    </tr>\n",
              "  </thead>\n",
              "  <tbody>\n",
              "    <tr>\n",
              "      <th>36</th>\n",
              "      <td>1852195</td>\n",
              "      <td>gladys@piedpiper.com</td>\n",
              "      <td>kristle@dontechi.com</td>\n",
              "      <td>2016-12-12</td>\n",
              "      <td>Email</td>\n",
              "      <td>i regret that i must inform you that your posi...</td>\n",
              "      <td>0.20</td>\n",
              "      <td>0.55</td>\n",
              "      <td>0.55</td>\n",
              "      <td>gladys@piedpiper.com_kristle@dontechi.comN5AZLQZR</td>\n",
              "      <td>Dontechi</td>\n",
              "      <td>N5AZLQZR</td>\n",
              "      <td>Won</td>\n",
              "      <td>GTX Plus Pro</td>\n",
              "      <td>5533</td>\n",
              "      <td>2016-12-12</td>\n",
              "      <td>2017-07-23</td>\n",
              "      <td>223</td>\n",
              "    </tr>\n",
              "    <tr>\n",
              "      <th>38</th>\n",
              "      <td>1452855</td>\n",
              "      <td>gladys@piedpiper.com</td>\n",
              "      <td>kristle@dontechi.com</td>\n",
              "      <td>2016-12-19</td>\n",
              "      <td>Call</td>\n",
              "      <td>i regret that i must cancel our appointment to...</td>\n",
              "      <td>0.00</td>\n",
              "      <td>0.00</td>\n",
              "      <td>0.00</td>\n",
              "      <td>gladys@piedpiper.com_kristle@dontechi.comN5AZLQZR</td>\n",
              "      <td>Dontechi</td>\n",
              "      <td>N5AZLQZR</td>\n",
              "      <td>Won</td>\n",
              "      <td>GTX Plus Pro</td>\n",
              "      <td>5533</td>\n",
              "      <td>2016-12-12</td>\n",
              "      <td>2017-07-23</td>\n",
              "      <td>223</td>\n",
              "    </tr>\n",
              "    <tr>\n",
              "      <th>40</th>\n",
              "      <td>1392689</td>\n",
              "      <td>gladys@piedpiper.com</td>\n",
              "      <td>kristle@dontechi.com</td>\n",
              "      <td>2016-12-28</td>\n",
              "      <td>Call</td>\n",
              "      <td>we were successful in closing the deal</td>\n",
              "      <td>0.75</td>\n",
              "      <td>0.95</td>\n",
              "      <td>3.55</td>\n",
              "      <td>gladys@piedpiper.com_kristle@dontechi.comN5AZLQZR</td>\n",
              "      <td>Dontechi</td>\n",
              "      <td>N5AZLQZR</td>\n",
              "      <td>Won</td>\n",
              "      <td>GTX Plus Pro</td>\n",
              "      <td>5533</td>\n",
              "      <td>2016-12-12</td>\n",
              "      <td>2017-07-23</td>\n",
              "      <td>223</td>\n",
              "    </tr>\n",
              "    <tr>\n",
              "      <th>42</th>\n",
              "      <td>5015744</td>\n",
              "      <td>gladys@piedpiper.com</td>\n",
              "      <td>kristle@dontechi.com</td>\n",
              "      <td>2017-01-18</td>\n",
              "      <td>Call</td>\n",
              "      <td>see how cutting edge technology can empower yo...</td>\n",
              "      <td>0.24</td>\n",
              "      <td>0.78</td>\n",
              "      <td>0.95</td>\n",
              "      <td>gladys@piedpiper.com_kristle@dontechi.comN5AZLQZR</td>\n",
              "      <td>Dontechi</td>\n",
              "      <td>N5AZLQZR</td>\n",
              "      <td>Won</td>\n",
              "      <td>GTX Plus Pro</td>\n",
              "      <td>5533</td>\n",
              "      <td>2016-12-12</td>\n",
              "      <td>2017-07-23</td>\n",
              "      <td>223</td>\n",
              "    </tr>\n",
              "    <tr>\n",
              "      <th>44</th>\n",
              "      <td>3843393</td>\n",
              "      <td>gladys@piedpiper.com</td>\n",
              "      <td>kristle@dontechi.com</td>\n",
              "      <td>2017-02-02</td>\n",
              "      <td>Email</td>\n",
              "      <td>your product is impressive</td>\n",
              "      <td>1.00</td>\n",
              "      <td>1.00</td>\n",
              "      <td>5.00</td>\n",
              "      <td>gladys@piedpiper.com_kristle@dontechi.comN5AZLQZR</td>\n",
              "      <td>Dontechi</td>\n",
              "      <td>N5AZLQZR</td>\n",
              "      <td>Won</td>\n",
              "      <td>GTX Plus Pro</td>\n",
              "      <td>5533</td>\n",
              "      <td>2016-12-12</td>\n",
              "      <td>2017-07-23</td>\n",
              "      <td>223</td>\n",
              "    </tr>\n",
              "    <tr>\n",
              "      <th>...</th>\n",
              "      <td>...</td>\n",
              "      <td>...</td>\n",
              "      <td>...</td>\n",
              "      <td>...</td>\n",
              "      <td>...</td>\n",
              "      <td>...</td>\n",
              "      <td>...</td>\n",
              "      <td>...</td>\n",
              "      <td>...</td>\n",
              "      <td>...</td>\n",
              "      <td>...</td>\n",
              "      <td>...</td>\n",
              "      <td>...</td>\n",
              "      <td>...</td>\n",
              "      <td>...</td>\n",
              "      <td>...</td>\n",
              "      <td>...</td>\n",
              "      <td>...</td>\n",
              "    </tr>\n",
              "    <tr>\n",
              "      <th>117374</th>\n",
              "      <td>3962713</td>\n",
              "      <td>kami@piedpiper.com</td>\n",
              "      <td>zulema@silis.com</td>\n",
              "      <td>2017-09-03</td>\n",
              "      <td>Call</td>\n",
              "      <td>your sales record is very impressive we recogn...</td>\n",
              "      <td>0.42</td>\n",
              "      <td>0.63</td>\n",
              "      <td>1.30</td>\n",
              "      <td>kami@piedpiper.com_zulema@silis.comJQA8H6M5</td>\n",
              "      <td>Silis</td>\n",
              "      <td>JQA8H6M5</td>\n",
              "      <td>In Progress</td>\n",
              "      <td>GTX Plus Pro</td>\n",
              "      <td>300</td>\n",
              "      <td>2017-04-13</td>\n",
              "      <td>2017-09-25</td>\n",
              "      <td>165</td>\n",
              "    </tr>\n",
              "    <tr>\n",
              "      <th>117377</th>\n",
              "      <td>9791988</td>\n",
              "      <td>kami@piedpiper.com</td>\n",
              "      <td>zulema@silis.com</td>\n",
              "      <td>2017-09-03</td>\n",
              "      <td>Email</td>\n",
              "      <td>please accept this letter as official notifica...</td>\n",
              "      <td>0.27</td>\n",
              "      <td>0.40</td>\n",
              "      <td>0.55</td>\n",
              "      <td>kami@piedpiper.com_zulema@silis.comJQA8H6M5</td>\n",
              "      <td>Silis</td>\n",
              "      <td>JQA8H6M5</td>\n",
              "      <td>In Progress</td>\n",
              "      <td>GTX Plus Pro</td>\n",
              "      <td>300</td>\n",
              "      <td>2017-04-13</td>\n",
              "      <td>2017-09-25</td>\n",
              "      <td>165</td>\n",
              "    </tr>\n",
              "    <tr>\n",
              "      <th>117388</th>\n",
              "      <td>3829903</td>\n",
              "      <td>garret@piedpiper.com</td>\n",
              "      <td>cuc@acmecorporation.com</td>\n",
              "      <td>2017-07-22</td>\n",
              "      <td>Email</td>\n",
              "      <td>i wont be able to meet you</td>\n",
              "      <td>0.50</td>\n",
              "      <td>0.62</td>\n",
              "      <td>1.55</td>\n",
              "      <td>garret@piedpiper.com_cuc@acmecorporation.com9C...</td>\n",
              "      <td>Acme Corporation</td>\n",
              "      <td>9CK2HTJP</td>\n",
              "      <td>Lost</td>\n",
              "      <td>GTX Plus Basic</td>\n",
              "      <td>487</td>\n",
              "      <td>2017-07-21</td>\n",
              "      <td>2017-08-29</td>\n",
              "      <td>39</td>\n",
              "    </tr>\n",
              "    <tr>\n",
              "      <th>117392</th>\n",
              "      <td>2015308</td>\n",
              "      <td>cecily@piedpiper.com</td>\n",
              "      <td>hai@thenewyorkinquirer.com</td>\n",
              "      <td>2017-04-08</td>\n",
              "      <td>Email</td>\n",
              "      <td>as anticipated the recent merger with doe asso...</td>\n",
              "      <td>0.23</td>\n",
              "      <td>0.65</td>\n",
              "      <td>0.75</td>\n",
              "      <td>cecily@piedpiper.com_hai@thenewyorkinquirer.co...</td>\n",
              "      <td>The New York Inquirer</td>\n",
              "      <td>0PT4RY4P</td>\n",
              "      <td>In Progress</td>\n",
              "      <td>MG Advanced</td>\n",
              "      <td>1026</td>\n",
              "      <td>2017-03-23</td>\n",
              "      <td>2017-09-09</td>\n",
              "      <td>170</td>\n",
              "    </tr>\n",
              "    <tr>\n",
              "      <th>117393</th>\n",
              "      <td>9209612</td>\n",
              "      <td>cecily@piedpiper.com</td>\n",
              "      <td>hai@thenewyorkinquirer.com</td>\n",
              "      <td>2017-04-26</td>\n",
              "      <td>Call</td>\n",
              "      <td>can we negotiate the price your current price ...</td>\n",
              "      <td>0.00</td>\n",
              "      <td>0.40</td>\n",
              "      <td>0.00</td>\n",
              "      <td>cecily@piedpiper.com_hai@thenewyorkinquirer.co...</td>\n",
              "      <td>The New York Inquirer</td>\n",
              "      <td>0PT4RY4P</td>\n",
              "      <td>In Progress</td>\n",
              "      <td>MG Advanced</td>\n",
              "      <td>1026</td>\n",
              "      <td>2017-03-23</td>\n",
              "      <td>2017-09-09</td>\n",
              "      <td>170</td>\n",
              "    </tr>\n",
              "  </tbody>\n",
              "</table>\n",
              "<p>18523 rows × 18 columns</p>\n",
              "</div>"
            ],
            "text/plain": [
              "        interactionID           fromEmailId  ... Close Date DateDiff\n",
              "36            1852195  gladys@piedpiper.com  ... 2017-07-23      223\n",
              "38            1452855  gladys@piedpiper.com  ... 2017-07-23      223\n",
              "40            1392689  gladys@piedpiper.com  ... 2017-07-23      223\n",
              "42            5015744  gladys@piedpiper.com  ... 2017-07-23      223\n",
              "44            3843393  gladys@piedpiper.com  ... 2017-07-23      223\n",
              "...               ...                   ...  ...        ...      ...\n",
              "117374        3962713    kami@piedpiper.com  ... 2017-09-25      165\n",
              "117377        9791988    kami@piedpiper.com  ... 2017-09-25      165\n",
              "117388        3829903  garret@piedpiper.com  ... 2017-08-29       39\n",
              "117392        2015308  cecily@piedpiper.com  ... 2017-09-09      170\n",
              "117393        9209612  cecily@piedpiper.com  ... 2017-09-09      170\n",
              "\n",
              "[18523 rows x 18 columns]"
            ]
          },
          "metadata": {
            "tags": []
          },
          "execution_count": 34
        }
      ]
    },
    {
      "cell_type": "markdown",
      "metadata": {
        "id": "pJt7PeMTjF5a",
        "colab_type": "text"
      },
      "source": [
        "Grouping the data based on Unique ID so as to get the mean score for all the conversation "
      ]
    },
    {
      "cell_type": "code",
      "metadata": {
        "id": "TLdcQ2l8ZuUE",
        "colab_type": "code",
        "colab": {}
      },
      "source": [
        "groupedData1=userVotes[['UniqueID','Account','Polarity','Subjectivity','Score']].groupby(['Account','UniqueID'],as_index=True).mean()"
      ],
      "execution_count": 35,
      "outputs": []
    },
    {
      "cell_type": "markdown",
      "metadata": {
        "id": "wDer8uiIjIJo",
        "colab_type": "text"
      },
      "source": [
        "Changing the Unique ID forma in second table"
      ]
    },
    {
      "cell_type": "code",
      "metadata": {
        "id": "wnCL22xOaAbD",
        "colab_type": "code",
        "colab": {
          "base_uri": "https://localhost:8080/",
          "height": 301
        },
        "outputId": "7eb2137d-2a6d-4204-f279-70a7226e72df"
      },
      "source": [
        "secondTable2=secondTable\n",
        "secondTable2['UniqueID']=secondTable2['UniqueID']+secondTable2['Opportunity_ID']\n",
        "secondTable2.head(5)"
      ],
      "execution_count": 36,
      "outputs": [
        {
          "output_type": "stream",
          "text": [
            "/usr/local/lib/python3.6/dist-packages/ipykernel_launcher.py:2: SettingWithCopyWarning: \n",
            "A value is trying to be set on a copy of a slice from a DataFrame.\n",
            "Try using .loc[row_indexer,col_indexer] = value instead\n",
            "\n",
            "See the caveats in the documentation: https://pandas.pydata.org/pandas-docs/stable/user_guide/indexing.html#returning-a-view-versus-a-copy\n",
            "  \n"
          ],
          "name": "stderr"
        },
        {
          "output_type": "execute_result",
          "data": {
            "text/html": [
              "<div>\n",
              "<style scoped>\n",
              "    .dataframe tbody tr th:only-of-type {\n",
              "        vertical-align: middle;\n",
              "    }\n",
              "\n",
              "    .dataframe tbody tr th {\n",
              "        vertical-align: top;\n",
              "    }\n",
              "\n",
              "    .dataframe thead th {\n",
              "        text-align: right;\n",
              "    }\n",
              "</style>\n",
              "<table border=\"1\" class=\"dataframe\">\n",
              "  <thead>\n",
              "    <tr style=\"text-align: right;\">\n",
              "      <th></th>\n",
              "      <th>Account</th>\n",
              "      <th>Opportunity_ID</th>\n",
              "      <th>Deal_Stage</th>\n",
              "      <th>Product</th>\n",
              "      <th>Close_Value</th>\n",
              "      <th>Created Date</th>\n",
              "      <th>Close Date</th>\n",
              "      <th>DateDiff</th>\n",
              "      <th>UniqueID</th>\n",
              "    </tr>\n",
              "  </thead>\n",
              "  <tbody>\n",
              "    <tr>\n",
              "      <th>0</th>\n",
              "      <td>Konex</td>\n",
              "      <td>3KR50X38</td>\n",
              "      <td>Won</td>\n",
              "      <td>GTX Plus Basic</td>\n",
              "      <td>1255</td>\n",
              "      <td>2016-01-04</td>\n",
              "      <td>2016-05-24</td>\n",
              "      <td>141</td>\n",
              "      <td>corliss@piedpiper.com_delila@konex.com3KR50X38</td>\n",
              "    </tr>\n",
              "    <tr>\n",
              "      <th>1</th>\n",
              "      <td>Finjob</td>\n",
              "      <td>YFS5KLJJ</td>\n",
              "      <td>Won</td>\n",
              "      <td>MG Special</td>\n",
              "      <td>45</td>\n",
              "      <td>2016-01-04</td>\n",
              "      <td>2016-11-02</td>\n",
              "      <td>303</td>\n",
              "      <td>rosalina@piedpiper.com_belinda@finjob.comYFS5KLJJ</td>\n",
              "    </tr>\n",
              "    <tr>\n",
              "      <th>2</th>\n",
              "      <td>Kinnamplus</td>\n",
              "      <td>N0ONCYVZ</td>\n",
              "      <td>Lost</td>\n",
              "      <td>MG Special</td>\n",
              "      <td>1054</td>\n",
              "      <td>2016-01-06</td>\n",
              "      <td>2016-12-07</td>\n",
              "      <td>336</td>\n",
              "      <td>donn@piedpiper.com_monte@kinnamplus.comN0ONCYVZ</td>\n",
              "    </tr>\n",
              "    <tr>\n",
              "      <th>3</th>\n",
              "      <td>Genco Pura Olive Oil Company</td>\n",
              "      <td>IBEUTCSW</td>\n",
              "      <td>In Progress</td>\n",
              "      <td>MG Advanced</td>\n",
              "      <td>1054</td>\n",
              "      <td>2016-01-06</td>\n",
              "      <td>2016-09-11</td>\n",
              "      <td>249</td>\n",
              "      <td>james@piedpiper.com_karole@gencopuraoliveoilco...</td>\n",
              "    </tr>\n",
              "    <tr>\n",
              "      <th>4</th>\n",
              "      <td>Initech</td>\n",
              "      <td>G8AO5FA2</td>\n",
              "      <td>Lost</td>\n",
              "      <td>MG Advanced</td>\n",
              "      <td>517</td>\n",
              "      <td>2016-01-06</td>\n",
              "      <td>2016-09-18</td>\n",
              "      <td>256</td>\n",
              "      <td>wilburn@piedpiper.com_alejandro@initech.comG8A...</td>\n",
              "    </tr>\n",
              "  </tbody>\n",
              "</table>\n",
              "</div>"
            ],
            "text/plain": [
              "                        Account  ...                                           UniqueID\n",
              "0                         Konex  ...     corliss@piedpiper.com_delila@konex.com3KR50X38\n",
              "1                        Finjob  ...  rosalina@piedpiper.com_belinda@finjob.comYFS5KLJJ\n",
              "2                    Kinnamplus  ...    donn@piedpiper.com_monte@kinnamplus.comN0ONCYVZ\n",
              "3  Genco Pura Olive Oil Company  ...  james@piedpiper.com_karole@gencopuraoliveoilco...\n",
              "4                       Initech  ...  wilburn@piedpiper.com_alejandro@initech.comG8A...\n",
              "\n",
              "[5 rows x 9 columns]"
            ]
          },
          "metadata": {
            "tags": []
          },
          "execution_count": 36
        }
      ]
    },
    {
      "cell_type": "markdown",
      "metadata": {
        "id": "6E3rSvDpkR8F",
        "colab_type": "text"
      },
      "source": [
        "Setting the second table for grouping"
      ]
    },
    {
      "cell_type": "code",
      "metadata": {
        "id": "PoWKqhZoaHr7",
        "colab_type": "code",
        "colab": {}
      },
      "source": [
        "groupedData2=secondTable2[['UniqueID','Close_Value','Created Date','Close Date','Deal_Stage','Product','Account','DateDiff']]"
      ],
      "execution_count": 37,
      "outputs": []
    },
    {
      "cell_type": "code",
      "metadata": {
        "id": "5uCXjdnIaS_E",
        "colab_type": "code",
        "colab": {}
      },
      "source": [
        "groupedData3=groupedData1.merge(groupedData2,on='UniqueID')"
      ],
      "execution_count": 38,
      "outputs": []
    },
    {
      "cell_type": "code",
      "metadata": {
        "id": "6kDCfkdiaVzr",
        "colab_type": "code",
        "colab": {
          "base_uri": "https://localhost:8080/",
          "height": 402
        },
        "outputId": "f14fa2b7-2bf2-4c9b-9852-08e4dc765d77"
      },
      "source": [
        "groupedData3"
      ],
      "execution_count": 39,
      "outputs": [
        {
          "output_type": "execute_result",
          "data": {
            "text/html": [
              "<div>\n",
              "<style scoped>\n",
              "    .dataframe tbody tr th:only-of-type {\n",
              "        vertical-align: middle;\n",
              "    }\n",
              "\n",
              "    .dataframe tbody tr th {\n",
              "        vertical-align: top;\n",
              "    }\n",
              "\n",
              "    .dataframe thead th {\n",
              "        text-align: right;\n",
              "    }\n",
              "</style>\n",
              "<table border=\"1\" class=\"dataframe\">\n",
              "  <thead>\n",
              "    <tr style=\"text-align: right;\">\n",
              "      <th></th>\n",
              "      <th>UniqueID</th>\n",
              "      <th>Polarity</th>\n",
              "      <th>Subjectivity</th>\n",
              "      <th>Score</th>\n",
              "      <th>Close_Value</th>\n",
              "      <th>Created Date</th>\n",
              "      <th>Close Date</th>\n",
              "      <th>Deal_Stage</th>\n",
              "      <th>Product</th>\n",
              "      <th>Account</th>\n",
              "      <th>DateDiff</th>\n",
              "    </tr>\n",
              "  </thead>\n",
              "  <tbody>\n",
              "    <tr>\n",
              "      <th>0</th>\n",
              "      <td>boris@piedpiper.com_cuc@acmecorporation.com3KV...</td>\n",
              "      <td>0.177143</td>\n",
              "      <td>0.487857</td>\n",
              "      <td>0.450000</td>\n",
              "      <td>300</td>\n",
              "      <td>2017-01-02</td>\n",
              "      <td>2017-09-26</td>\n",
              "      <td>Lost</td>\n",
              "      <td>GTX Plus Basic</td>\n",
              "      <td>Acme Corporation</td>\n",
              "      <td>267</td>\n",
              "    </tr>\n",
              "    <tr>\n",
              "      <th>1</th>\n",
              "      <td>boris@piedpiper.com_cuc@acmecorporation.comRMU...</td>\n",
              "      <td>0.182222</td>\n",
              "      <td>0.508889</td>\n",
              "      <td>0.444444</td>\n",
              "      <td>53</td>\n",
              "      <td>2017-02-01</td>\n",
              "      <td>2017-07-14</td>\n",
              "      <td>Lost</td>\n",
              "      <td>GTX Plus Pro</td>\n",
              "      <td>Acme Corporation</td>\n",
              "      <td>163</td>\n",
              "    </tr>\n",
              "    <tr>\n",
              "      <th>2</th>\n",
              "      <td>cassey@piedpiper.com_cuc@acmecorporation.com79...</td>\n",
              "      <td>0.310000</td>\n",
              "      <td>0.683571</td>\n",
              "      <td>1.175000</td>\n",
              "      <td>1054</td>\n",
              "      <td>2017-01-26</td>\n",
              "      <td>2017-09-16</td>\n",
              "      <td>Lost</td>\n",
              "      <td>GTX Basic</td>\n",
              "      <td>Acme Corporation</td>\n",
              "      <td>233</td>\n",
              "    </tr>\n",
              "    <tr>\n",
              "      <th>3</th>\n",
              "      <td>cassey@piedpiper.com_cuc@acmecorporation.com7F...</td>\n",
              "      <td>1.000000</td>\n",
              "      <td>1.000000</td>\n",
              "      <td>5.000000</td>\n",
              "      <td>1096</td>\n",
              "      <td>2017-04-22</td>\n",
              "      <td>2017-06-29</td>\n",
              "      <td>Won</td>\n",
              "      <td>GTX Plus Basic</td>\n",
              "      <td>Acme Corporation</td>\n",
              "      <td>68</td>\n",
              "    </tr>\n",
              "    <tr>\n",
              "      <th>4</th>\n",
              "      <td>daniell@piedpiper.com_cuc@acmecorporation.com0...</td>\n",
              "      <td>0.128000</td>\n",
              "      <td>0.722000</td>\n",
              "      <td>0.240000</td>\n",
              "      <td>5721</td>\n",
              "      <td>2017-01-03</td>\n",
              "      <td>2017-05-06</td>\n",
              "      <td>Won</td>\n",
              "      <td>GTX Plus Pro</td>\n",
              "      <td>Acme Corporation</td>\n",
              "      <td>123</td>\n",
              "    </tr>\n",
              "    <tr>\n",
              "      <th>...</th>\n",
              "      <td>...</td>\n",
              "      <td>...</td>\n",
              "      <td>...</td>\n",
              "      <td>...</td>\n",
              "      <td>...</td>\n",
              "      <td>...</td>\n",
              "      <td>...</td>\n",
              "      <td>...</td>\n",
              "      <td>...</td>\n",
              "      <td>...</td>\n",
              "      <td>...</td>\n",
              "    </tr>\n",
              "    <tr>\n",
              "      <th>2208</th>\n",
              "      <td>versie@piedpiper.com_darwin@dambase.com0XK80WX8</td>\n",
              "      <td>0.345455</td>\n",
              "      <td>0.656364</td>\n",
              "      <td>1.418182</td>\n",
              "      <td>47</td>\n",
              "      <td>2017-02-13</td>\n",
              "      <td>2017-09-27</td>\n",
              "      <td>Won</td>\n",
              "      <td>MG Special</td>\n",
              "      <td>dambase</td>\n",
              "      <td>226</td>\n",
              "    </tr>\n",
              "    <tr>\n",
              "      <th>2209</th>\n",
              "      <td>versie@piedpiper.com_darwin@dambase.com2STUSOFE</td>\n",
              "      <td>-0.133333</td>\n",
              "      <td>0.576667</td>\n",
              "      <td>-0.633333</td>\n",
              "      <td>67</td>\n",
              "      <td>2016-06-08</td>\n",
              "      <td>2016-09-30</td>\n",
              "      <td>Won</td>\n",
              "      <td>MG Special</td>\n",
              "      <td>dambase</td>\n",
              "      <td>114</td>\n",
              "    </tr>\n",
              "    <tr>\n",
              "      <th>2210</th>\n",
              "      <td>versie@piedpiper.com_darwin@dambase.com2X9KWWCP</td>\n",
              "      <td>0.344000</td>\n",
              "      <td>0.648000</td>\n",
              "      <td>1.280000</td>\n",
              "      <td>59</td>\n",
              "      <td>2017-01-22</td>\n",
              "      <td>2017-05-03</td>\n",
              "      <td>Won</td>\n",
              "      <td>MG Special</td>\n",
              "      <td>dambase</td>\n",
              "      <td>101</td>\n",
              "    </tr>\n",
              "    <tr>\n",
              "      <th>2211</th>\n",
              "      <td>versie@piedpiper.com_darwin@dambase.comQYTGB5LA</td>\n",
              "      <td>0.319000</td>\n",
              "      <td>0.621000</td>\n",
              "      <td>1.190000</td>\n",
              "      <td>5145</td>\n",
              "      <td>2017-02-11</td>\n",
              "      <td>2017-07-09</td>\n",
              "      <td>Won</td>\n",
              "      <td>GTX Plus Pro</td>\n",
              "      <td>dambase</td>\n",
              "      <td>148</td>\n",
              "    </tr>\n",
              "    <tr>\n",
              "      <th>2212</th>\n",
              "      <td>vicki@piedpiper.com_darwin@dambase.comYPM5PZMD</td>\n",
              "      <td>0.194286</td>\n",
              "      <td>0.430000</td>\n",
              "      <td>0.546429</td>\n",
              "      <td>1000</td>\n",
              "      <td>2017-05-04</td>\n",
              "      <td>2017-09-01</td>\n",
              "      <td>In Progress</td>\n",
              "      <td>MG Special</td>\n",
              "      <td>dambase</td>\n",
              "      <td>120</td>\n",
              "    </tr>\n",
              "  </tbody>\n",
              "</table>\n",
              "<p>2213 rows × 11 columns</p>\n",
              "</div>"
            ],
            "text/plain": [
              "                                               UniqueID  ...  DateDiff\n",
              "0     boris@piedpiper.com_cuc@acmecorporation.com3KV...  ...       267\n",
              "1     boris@piedpiper.com_cuc@acmecorporation.comRMU...  ...       163\n",
              "2     cassey@piedpiper.com_cuc@acmecorporation.com79...  ...       233\n",
              "3     cassey@piedpiper.com_cuc@acmecorporation.com7F...  ...        68\n",
              "4     daniell@piedpiper.com_cuc@acmecorporation.com0...  ...       123\n",
              "...                                                 ...  ...       ...\n",
              "2208    versie@piedpiper.com_darwin@dambase.com0XK80WX8  ...       226\n",
              "2209    versie@piedpiper.com_darwin@dambase.com2STUSOFE  ...       114\n",
              "2210    versie@piedpiper.com_darwin@dambase.com2X9KWWCP  ...       101\n",
              "2211    versie@piedpiper.com_darwin@dambase.comQYTGB5LA  ...       148\n",
              "2212     vicki@piedpiper.com_darwin@dambase.comYPM5PZMD  ...       120\n",
              "\n",
              "[2213 rows x 11 columns]"
            ]
          },
          "metadata": {
            "tags": []
          },
          "execution_count": 39
        }
      ]
    },
    {
      "cell_type": "markdown",
      "metadata": {
        "id": "zy_8fziakXZU",
        "colab_type": "text"
      },
      "source": [
        "Importing the rest of the libraries"
      ]
    },
    {
      "cell_type": "code",
      "metadata": {
        "id": "sRgmql0dax45",
        "colab_type": "code",
        "colab": {}
      },
      "source": [
        "from sklearn.model_selection import train_test_split\n",
        "from sklearn.linear_model import LogisticRegression\n",
        "from sklearn.neighbors import KNeighborsClassifier\n",
        "from sklearn.naive_bayes import GaussianNB\n"
      ],
      "execution_count": 72,
      "outputs": []
    },
    {
      "cell_type": "markdown",
      "metadata": {
        "id": "GWzUHpifkgPY",
        "colab_type": "text"
      },
      "source": [
        "Preparing the data fro training model"
      ]
    },
    {
      "cell_type": "code",
      "metadata": {
        "id": "LUeCr63Q2zk2",
        "colab_type": "code",
        "colab": {}
      },
      "source": [
        "X=groupedData3.drop(columns=['Deal_Stage','Product','UniqueID','Account','Created Date','Close Date','DateDiff'])\n"
      ],
      "execution_count": 43,
      "outputs": []
    },
    {
      "cell_type": "code",
      "metadata": {
        "id": "QBN9Lvn1aXQ6",
        "colab_type": "code",
        "colab": {}
      },
      "source": [
        "y = groupedData3['Deal_Stage']\n"
      ],
      "execution_count": 44,
      "outputs": []
    },
    {
      "cell_type": "markdown",
      "metadata": {
        "id": "UE8AiqNBknFb",
        "colab_type": "text"
      },
      "source": [
        "Method for fitting the model"
      ]
    },
    {
      "cell_type": "code",
      "metadata": {
        "id": "8lPZJvGjakJ7",
        "colab_type": "code",
        "colab": {}
      },
      "source": [
        "def fit_n_print(model, X_train, X_test, y_train, y_test):  # take the model, and data as inputs\n",
        "    from sklearn import metrics\n",
        "    \n",
        "    model.fit(X_train, y_train)   # for the model with the train data\n",
        "\n",
        "    pred = model.predict(X_test)  # make predictions on the test set\n",
        "\n",
        "    score = round(model.score(X_test, y_test), 3)\n",
        "    #matrix= confusion_matrix(y_true, y_pred, labels=['Won', 'Lost', 'In Progress'])# compute accuracy score for test set\n",
        " #   f1_score =  round(2*precision*recall/(precision + recall), 3)\n",
        "    \n",
        "    return score # return all the metrics\n",
        "    "
      ],
      "execution_count": 45,
      "outputs": []
    },
    {
      "cell_type": "markdown",
      "metadata": {
        "id": "_1ADNB9Aksqt",
        "colab_type": "text"
      },
      "source": [
        "Replacing the text to number"
      ]
    },
    {
      "cell_type": "code",
      "metadata": {
        "id": "KvaaVT39bUb3",
        "colab_type": "code",
        "colab": {}
      },
      "source": [
        "y=y.replace({'Lost': 0, 'Won': 2,'In Progress':1})"
      ],
      "execution_count": 46,
      "outputs": []
    },
    {
      "cell_type": "markdown",
      "metadata": {
        "id": "Dm4HyFu7kxdD",
        "colab_type": "text"
      },
      "source": [
        "Splitting the data"
      ]
    },
    {
      "cell_type": "code",
      "metadata": {
        "id": "F9jHc4N8bkRJ",
        "colab_type": "code",
        "colab": {}
      },
      "source": [
        "X_train, X_test, y_train, y_test = train_test_split(X,y, random_state = 1, stratify = y) "
      ],
      "execution_count": 47,
      "outputs": []
    },
    {
      "cell_type": "markdown",
      "metadata": {
        "id": "7wG0hm6Nk1Mt",
        "colab_type": "text"
      },
      "source": [
        "Trying out different models for accuracy"
      ]
    },
    {
      "cell_type": "code",
      "metadata": {
        "id": "kdfR1Edfa6AF",
        "colab_type": "code",
        "colab": {
          "base_uri": "https://localhost:8080/",
          "height": 34
        },
        "outputId": "4fa2d130-379d-4f2e-fd8b-485eb1a39ee0"
      },
      "source": [
        "lr = LogisticRegression(solver = 'liblinear')  # \n",
        "lr_accuracy = fit_n_print(lr, X_train, X_test, y_train, y_test)\n",
        "lr_accuracy*100"
      ],
      "execution_count": 49,
      "outputs": [
        {
          "output_type": "execute_result",
          "data": {
            "text/plain": [
              "52.2"
            ]
          },
          "metadata": {
            "tags": []
          },
          "execution_count": 49
        }
      ]
    },
    {
      "cell_type": "code",
      "metadata": {
        "id": "HDhEQgqRkZCl",
        "colab_type": "code",
        "colab": {
          "base_uri": "https://localhost:8080/",
          "height": 34
        },
        "outputId": "d4a2e837-5f6a-417b-c4bb-d835fd656e92"
      },
      "source": [
        "knn = KNeighborsClassifier()\n",
        "knn_accuracy = fit_n_print(knn, X_train, X_test, y_train, y_test )\n",
        "knn_accuracy*100"
      ],
      "execution_count": 50,
      "outputs": [
        {
          "output_type": "execute_result",
          "data": {
            "text/plain": [
              "70.89999999999999"
            ]
          },
          "metadata": {
            "tags": []
          },
          "execution_count": 50
        }
      ]
    },
    {
      "cell_type": "code",
      "metadata": {
        "id": "IUnksj_ekc4U",
        "colab_type": "code",
        "colab": {
          "base_uri": "https://localhost:8080/",
          "height": 34
        },
        "outputId": "ae7c8f67-16d0-4992-aee5-36d7c60307cb"
      },
      "source": [
        "nb = GaussianNB()\n",
        "nb_accuracy = fit_n_print(nb, X_train, X_test, y_train, y_test )\n",
        "nb_accuracy*100"
      ],
      "execution_count": 51,
      "outputs": [
        {
          "output_type": "execute_result",
          "data": {
            "text/plain": [
              "51.1"
            ]
          },
          "metadata": {
            "tags": []
          },
          "execution_count": 51
        }
      ]
    },
    {
      "cell_type": "markdown",
      "metadata": {
        "id": "GoI0VwXrk48u",
        "colab_type": "text"
      },
      "source": [
        "As we can see the KNN model gives highest accuracy "
      ]
    },
    {
      "cell_type": "markdown",
      "metadata": {
        "id": "kFEOG4SElCMB",
        "colab_type": "text"
      },
      "source": [
        "Hence we use KNN to predict the deal stage given the X values"
      ]
    },
    {
      "cell_type": "code",
      "metadata": {
        "id": "hVUirOHaA_I9",
        "colab_type": "code",
        "colab": {}
      },
      "source": [
        "groupedData3['PredictedState']= knn.predict(X)\n",
        "groupedData3['PredictedState']=groupedData3['PredictedState'].replace({0: 'Lost', 2: 'Won',1:'In Progress'})\n",
        "groupedData3['Year'] = groupedData3['Close Date'].dt.year\n",
        "groupedData3['Month'] =groupedData3['Close Date'].dt.month\n",
        "groupedData3['Quarter']=groupedData3['Month'].apply(lambda x: 'Q1' if x <=3  else ('Q2'if x >3 and x<=6 else ('Q3' if x>6 and x<=9 else 'Q4')))"
      ],
      "execution_count": 54,
      "outputs": []
    },
    {
      "cell_type": "code",
      "metadata": {
        "id": "PAnlcjNDCMZt",
        "colab_type": "code",
        "colab": {
          "base_uri": "https://localhost:8080/",
          "height": 316
        },
        "outputId": "fc1f5e6e-3c56-4922-e088-2c84ff33ed8f"
      },
      "source": [
        "groupedData3.tail(5)\n"
      ],
      "execution_count": 55,
      "outputs": [
        {
          "output_type": "execute_result",
          "data": {
            "text/html": [
              "<div>\n",
              "<style scoped>\n",
              "    .dataframe tbody tr th:only-of-type {\n",
              "        vertical-align: middle;\n",
              "    }\n",
              "\n",
              "    .dataframe tbody tr th {\n",
              "        vertical-align: top;\n",
              "    }\n",
              "\n",
              "    .dataframe thead th {\n",
              "        text-align: right;\n",
              "    }\n",
              "</style>\n",
              "<table border=\"1\" class=\"dataframe\">\n",
              "  <thead>\n",
              "    <tr style=\"text-align: right;\">\n",
              "      <th></th>\n",
              "      <th>UniqueID</th>\n",
              "      <th>Polarity</th>\n",
              "      <th>Subjectivity</th>\n",
              "      <th>Score</th>\n",
              "      <th>Close_Value</th>\n",
              "      <th>Created Date</th>\n",
              "      <th>Close Date</th>\n",
              "      <th>Deal_Stage</th>\n",
              "      <th>Product</th>\n",
              "      <th>Account</th>\n",
              "      <th>DateDiff</th>\n",
              "      <th>PredictedState</th>\n",
              "      <th>Year</th>\n",
              "      <th>Month</th>\n",
              "      <th>Quarter</th>\n",
              "    </tr>\n",
              "  </thead>\n",
              "  <tbody>\n",
              "    <tr>\n",
              "      <th>2208</th>\n",
              "      <td>versie@piedpiper.com_darwin@dambase.com0XK80WX8</td>\n",
              "      <td>0.345455</td>\n",
              "      <td>0.656364</td>\n",
              "      <td>1.418182</td>\n",
              "      <td>47</td>\n",
              "      <td>2017-02-13</td>\n",
              "      <td>2017-09-27</td>\n",
              "      <td>Won</td>\n",
              "      <td>MG Special</td>\n",
              "      <td>dambase</td>\n",
              "      <td>226</td>\n",
              "      <td>Won</td>\n",
              "      <td>2017</td>\n",
              "      <td>9</td>\n",
              "      <td>Q3</td>\n",
              "    </tr>\n",
              "    <tr>\n",
              "      <th>2209</th>\n",
              "      <td>versie@piedpiper.com_darwin@dambase.com2STUSOFE</td>\n",
              "      <td>-0.133333</td>\n",
              "      <td>0.576667</td>\n",
              "      <td>-0.633333</td>\n",
              "      <td>67</td>\n",
              "      <td>2016-06-08</td>\n",
              "      <td>2016-09-30</td>\n",
              "      <td>Won</td>\n",
              "      <td>MG Special</td>\n",
              "      <td>dambase</td>\n",
              "      <td>114</td>\n",
              "      <td>Won</td>\n",
              "      <td>2016</td>\n",
              "      <td>9</td>\n",
              "      <td>Q3</td>\n",
              "    </tr>\n",
              "    <tr>\n",
              "      <th>2210</th>\n",
              "      <td>versie@piedpiper.com_darwin@dambase.com2X9KWWCP</td>\n",
              "      <td>0.344000</td>\n",
              "      <td>0.648000</td>\n",
              "      <td>1.280000</td>\n",
              "      <td>59</td>\n",
              "      <td>2017-01-22</td>\n",
              "      <td>2017-05-03</td>\n",
              "      <td>Won</td>\n",
              "      <td>MG Special</td>\n",
              "      <td>dambase</td>\n",
              "      <td>101</td>\n",
              "      <td>Won</td>\n",
              "      <td>2017</td>\n",
              "      <td>5</td>\n",
              "      <td>Q2</td>\n",
              "    </tr>\n",
              "    <tr>\n",
              "      <th>2211</th>\n",
              "      <td>versie@piedpiper.com_darwin@dambase.comQYTGB5LA</td>\n",
              "      <td>0.319000</td>\n",
              "      <td>0.621000</td>\n",
              "      <td>1.190000</td>\n",
              "      <td>5145</td>\n",
              "      <td>2017-02-11</td>\n",
              "      <td>2017-07-09</td>\n",
              "      <td>Won</td>\n",
              "      <td>GTX Plus Pro</td>\n",
              "      <td>dambase</td>\n",
              "      <td>148</td>\n",
              "      <td>Won</td>\n",
              "      <td>2017</td>\n",
              "      <td>7</td>\n",
              "      <td>Q3</td>\n",
              "    </tr>\n",
              "    <tr>\n",
              "      <th>2212</th>\n",
              "      <td>vicki@piedpiper.com_darwin@dambase.comYPM5PZMD</td>\n",
              "      <td>0.194286</td>\n",
              "      <td>0.430000</td>\n",
              "      <td>0.546429</td>\n",
              "      <td>1000</td>\n",
              "      <td>2017-05-04</td>\n",
              "      <td>2017-09-01</td>\n",
              "      <td>In Progress</td>\n",
              "      <td>MG Special</td>\n",
              "      <td>dambase</td>\n",
              "      <td>120</td>\n",
              "      <td>Lost</td>\n",
              "      <td>2017</td>\n",
              "      <td>9</td>\n",
              "      <td>Q3</td>\n",
              "    </tr>\n",
              "  </tbody>\n",
              "</table>\n",
              "</div>"
            ],
            "text/plain": [
              "                                             UniqueID  Polarity  ...  Month  Quarter\n",
              "2208  versie@piedpiper.com_darwin@dambase.com0XK80WX8  0.345455  ...      9       Q3\n",
              "2209  versie@piedpiper.com_darwin@dambase.com2STUSOFE -0.133333  ...      9       Q3\n",
              "2210  versie@piedpiper.com_darwin@dambase.com2X9KWWCP  0.344000  ...      5       Q2\n",
              "2211  versie@piedpiper.com_darwin@dambase.comQYTGB5LA  0.319000  ...      7       Q3\n",
              "2212   vicki@piedpiper.com_darwin@dambase.comYPM5PZMD  0.194286  ...      9       Q3\n",
              "\n",
              "[5 rows x 15 columns]"
            ]
          },
          "metadata": {
            "tags": []
          },
          "execution_count": 55
        }
      ]
    },
    {
      "cell_type": "markdown",
      "metadata": {
        "id": "aQaf1xBnlKw3",
        "colab_type": "text"
      },
      "source": [
        "Sorting the tabel into two so that we can check the revenue based on the prediction"
      ]
    },
    {
      "cell_type": "code",
      "metadata": {
        "id": "VffN6W15CXql",
        "colab_type": "code",
        "colab": {}
      },
      "source": [
        "PredictedTable=groupedData3[groupedData3['PredictedState']=='Won']\n",
        "ActualTable=groupedData3[groupedData3['Deal_Stage']=='Won']"
      ],
      "execution_count": 56,
      "outputs": []
    },
    {
      "cell_type": "code",
      "metadata": {
        "id": "IFLSC1L3D4T7",
        "colab_type": "code",
        "colab": {
          "base_uri": "https://localhost:8080/",
          "height": 515
        },
        "outputId": "0b27c647-f3ec-4bcb-86b9-2829d29c4932"
      },
      "source": [
        "from IPython.display import display_html\n",
        "PredictedRevenueMonthTest= PredictedTable[['Year','Quarter','Month', 'Close_Value']].groupby(['Year','Quarter','Month'], as_index=True).sum()\n",
        "ActualRevenueMonthTest=ActualTable[['Year','Quarter','Month', 'Close_Value']].groupby(['Year','Quarter','Month'], as_index=True).sum()\n",
        "df1_styler = PredictedRevenueMonthTest.style.set_table_attributes(\"style='display:inline'\").set_caption('Predicted')\n",
        "df2_styler = ActualRevenueMonthTest.style.set_table_attributes(\"style='display:inline'\").set_caption('Actual')\n",
        "\n",
        "display_html(df1_styler._repr_html_()+df2_styler._repr_html_(), raw=True)"
      ],
      "execution_count": 76,
      "outputs": [
        {
          "output_type": "display_data",
          "data": {
            "text/html": [
              "<style  type=\"text/css\" >\n",
              "</style><table id=\"T_4586a09a_d569_11ea_9e90_0242ac1c0002\" style='display:inline'><caption>Predicted</caption><thead>    <tr>        <th class=\"blank\" ></th>        <th class=\"blank\" ></th>        <th class=\"blank level0\" ></th>        <th class=\"col_heading level0 col0\" >Close_Value</th>    </tr>    <tr>        <th class=\"index_name level0\" >Year</th>        <th class=\"index_name level1\" >Quarter</th>        <th class=\"index_name level2\" >Month</th>        <th class=\"blank\" ></th>    </tr></thead><tbody>\n",
              "                <tr>\n",
              "                        <th id=\"T_4586a09a_d569_11ea_9e90_0242ac1c0002level0_row0\" class=\"row_heading level0 row0\" rowspan=12>2016</th>\n",
              "                        <th id=\"T_4586a09a_d569_11ea_9e90_0242ac1c0002level1_row0\" class=\"row_heading level1 row0\" rowspan=3>Q1</th>\n",
              "                        <th id=\"T_4586a09a_d569_11ea_9e90_0242ac1c0002level2_row0\" class=\"row_heading level2 row0\" >1</th>\n",
              "                        <td id=\"T_4586a09a_d569_11ea_9e90_0242ac1c0002row0_col0\" class=\"data row0 col0\" >4359</td>\n",
              "            </tr>\n",
              "            <tr>\n",
              "                                        <th id=\"T_4586a09a_d569_11ea_9e90_0242ac1c0002level2_row1\" class=\"row_heading level2 row1\" >2</th>\n",
              "                        <td id=\"T_4586a09a_d569_11ea_9e90_0242ac1c0002row1_col0\" class=\"data row1 col0\" >2234</td>\n",
              "            </tr>\n",
              "            <tr>\n",
              "                                        <th id=\"T_4586a09a_d569_11ea_9e90_0242ac1c0002level2_row2\" class=\"row_heading level2 row2\" >3</th>\n",
              "                        <td id=\"T_4586a09a_d569_11ea_9e90_0242ac1c0002row2_col0\" class=\"data row2 col0\" >5149</td>\n",
              "            </tr>\n",
              "            <tr>\n",
              "                                <th id=\"T_4586a09a_d569_11ea_9e90_0242ac1c0002level1_row3\" class=\"row_heading level1 row3\" rowspan=3>Q2</th>\n",
              "                        <th id=\"T_4586a09a_d569_11ea_9e90_0242ac1c0002level2_row3\" class=\"row_heading level2 row3\" >4</th>\n",
              "                        <td id=\"T_4586a09a_d569_11ea_9e90_0242ac1c0002row3_col0\" class=\"data row3 col0\" >4146</td>\n",
              "            </tr>\n",
              "            <tr>\n",
              "                                        <th id=\"T_4586a09a_d569_11ea_9e90_0242ac1c0002level2_row4\" class=\"row_heading level2 row4\" >5</th>\n",
              "                        <td id=\"T_4586a09a_d569_11ea_9e90_0242ac1c0002row4_col0\" class=\"data row4 col0\" >6981</td>\n",
              "            </tr>\n",
              "            <tr>\n",
              "                                        <th id=\"T_4586a09a_d569_11ea_9e90_0242ac1c0002level2_row5\" class=\"row_heading level2 row5\" >6</th>\n",
              "                        <td id=\"T_4586a09a_d569_11ea_9e90_0242ac1c0002row5_col0\" class=\"data row5 col0\" >35453</td>\n",
              "            </tr>\n",
              "            <tr>\n",
              "                                <th id=\"T_4586a09a_d569_11ea_9e90_0242ac1c0002level1_row6\" class=\"row_heading level1 row6\" rowspan=3>Q3</th>\n",
              "                        <th id=\"T_4586a09a_d569_11ea_9e90_0242ac1c0002level2_row6\" class=\"row_heading level2 row6\" >7</th>\n",
              "                        <td id=\"T_4586a09a_d569_11ea_9e90_0242ac1c0002row6_col0\" class=\"data row6 col0\" >22082</td>\n",
              "            </tr>\n",
              "            <tr>\n",
              "                                        <th id=\"T_4586a09a_d569_11ea_9e90_0242ac1c0002level2_row7\" class=\"row_heading level2 row7\" >8</th>\n",
              "                        <td id=\"T_4586a09a_d569_11ea_9e90_0242ac1c0002row7_col0\" class=\"data row7 col0\" >31869</td>\n",
              "            </tr>\n",
              "            <tr>\n",
              "                                        <th id=\"T_4586a09a_d569_11ea_9e90_0242ac1c0002level2_row8\" class=\"row_heading level2 row8\" >9</th>\n",
              "                        <td id=\"T_4586a09a_d569_11ea_9e90_0242ac1c0002row8_col0\" class=\"data row8 col0\" >51509</td>\n",
              "            </tr>\n",
              "            <tr>\n",
              "                                <th id=\"T_4586a09a_d569_11ea_9e90_0242ac1c0002level1_row9\" class=\"row_heading level1 row9\" rowspan=3>Q4</th>\n",
              "                        <th id=\"T_4586a09a_d569_11ea_9e90_0242ac1c0002level2_row9\" class=\"row_heading level2 row9\" >10</th>\n",
              "                        <td id=\"T_4586a09a_d569_11ea_9e90_0242ac1c0002row9_col0\" class=\"data row9 col0\" >49915</td>\n",
              "            </tr>\n",
              "            <tr>\n",
              "                                        <th id=\"T_4586a09a_d569_11ea_9e90_0242ac1c0002level2_row10\" class=\"row_heading level2 row10\" >11</th>\n",
              "                        <td id=\"T_4586a09a_d569_11ea_9e90_0242ac1c0002row10_col0\" class=\"data row10 col0\" >38561</td>\n",
              "            </tr>\n",
              "            <tr>\n",
              "                                        <th id=\"T_4586a09a_d569_11ea_9e90_0242ac1c0002level2_row11\" class=\"row_heading level2 row11\" >12</th>\n",
              "                        <td id=\"T_4586a09a_d569_11ea_9e90_0242ac1c0002row11_col0\" class=\"data row11 col0\" >62172</td>\n",
              "            </tr>\n",
              "            <tr>\n",
              "                        <th id=\"T_4586a09a_d569_11ea_9e90_0242ac1c0002level0_row12\" class=\"row_heading level0 row12\" rowspan=10>2017</th>\n",
              "                        <th id=\"T_4586a09a_d569_11ea_9e90_0242ac1c0002level1_row12\" class=\"row_heading level1 row12\" rowspan=3>Q1</th>\n",
              "                        <th id=\"T_4586a09a_d569_11ea_9e90_0242ac1c0002level2_row12\" class=\"row_heading level2 row12\" >1</th>\n",
              "                        <td id=\"T_4586a09a_d569_11ea_9e90_0242ac1c0002row12_col0\" class=\"data row12 col0\" >27239</td>\n",
              "            </tr>\n",
              "            <tr>\n",
              "                                        <th id=\"T_4586a09a_d569_11ea_9e90_0242ac1c0002level2_row13\" class=\"row_heading level2 row13\" >2</th>\n",
              "                        <td id=\"T_4586a09a_d569_11ea_9e90_0242ac1c0002row13_col0\" class=\"data row13 col0\" >76984</td>\n",
              "            </tr>\n",
              "            <tr>\n",
              "                                        <th id=\"T_4586a09a_d569_11ea_9e90_0242ac1c0002level2_row14\" class=\"row_heading level2 row14\" >3</th>\n",
              "                        <td id=\"T_4586a09a_d569_11ea_9e90_0242ac1c0002row14_col0\" class=\"data row14 col0\" >132479</td>\n",
              "            </tr>\n",
              "            <tr>\n",
              "                                <th id=\"T_4586a09a_d569_11ea_9e90_0242ac1c0002level1_row15\" class=\"row_heading level1 row15\" rowspan=3>Q2</th>\n",
              "                        <th id=\"T_4586a09a_d569_11ea_9e90_0242ac1c0002level2_row15\" class=\"row_heading level2 row15\" >4</th>\n",
              "                        <td id=\"T_4586a09a_d569_11ea_9e90_0242ac1c0002row15_col0\" class=\"data row15 col0\" >194423</td>\n",
              "            </tr>\n",
              "            <tr>\n",
              "                                        <th id=\"T_4586a09a_d569_11ea_9e90_0242ac1c0002level2_row16\" class=\"row_heading level2 row16\" >5</th>\n",
              "                        <td id=\"T_4586a09a_d569_11ea_9e90_0242ac1c0002row16_col0\" class=\"data row16 col0\" >319894</td>\n",
              "            </tr>\n",
              "            <tr>\n",
              "                                        <th id=\"T_4586a09a_d569_11ea_9e90_0242ac1c0002level2_row17\" class=\"row_heading level2 row17\" >6</th>\n",
              "                        <td id=\"T_4586a09a_d569_11ea_9e90_0242ac1c0002row17_col0\" class=\"data row17 col0\" >262384</td>\n",
              "            </tr>\n",
              "            <tr>\n",
              "                                <th id=\"T_4586a09a_d569_11ea_9e90_0242ac1c0002level1_row18\" class=\"row_heading level1 row18\" rowspan=3>Q3</th>\n",
              "                        <th id=\"T_4586a09a_d569_11ea_9e90_0242ac1c0002level2_row18\" class=\"row_heading level2 row18\" >7</th>\n",
              "                        <td id=\"T_4586a09a_d569_11ea_9e90_0242ac1c0002row18_col0\" class=\"data row18 col0\" >393750</td>\n",
              "            </tr>\n",
              "            <tr>\n",
              "                                        <th id=\"T_4586a09a_d569_11ea_9e90_0242ac1c0002level2_row19\" class=\"row_heading level2 row19\" >8</th>\n",
              "                        <td id=\"T_4586a09a_d569_11ea_9e90_0242ac1c0002row19_col0\" class=\"data row19 col0\" >392900</td>\n",
              "            </tr>\n",
              "            <tr>\n",
              "                                        <th id=\"T_4586a09a_d569_11ea_9e90_0242ac1c0002level2_row20\" class=\"row_heading level2 row20\" >9</th>\n",
              "                        <td id=\"T_4586a09a_d569_11ea_9e90_0242ac1c0002row20_col0\" class=\"data row20 col0\" >442073</td>\n",
              "            </tr>\n",
              "            <tr>\n",
              "                                <th id=\"T_4586a09a_d569_11ea_9e90_0242ac1c0002level1_row21\" class=\"row_heading level1 row21\" >Q4</th>\n",
              "                        <th id=\"T_4586a09a_d569_11ea_9e90_0242ac1c0002level2_row21\" class=\"row_heading level2 row21\" >10</th>\n",
              "                        <td id=\"T_4586a09a_d569_11ea_9e90_0242ac1c0002row21_col0\" class=\"data row21 col0\" >19063</td>\n",
              "            </tr>\n",
              "    </tbody></table><style  type=\"text/css\" >\n",
              "</style><table id=\"T_458736f4_d569_11ea_9e90_0242ac1c0002\" style='display:inline'><caption>Actual</caption><thead>    <tr>        <th class=\"blank\" ></th>        <th class=\"blank\" ></th>        <th class=\"blank level0\" ></th>        <th class=\"col_heading level0 col0\" >Close_Value</th>    </tr>    <tr>        <th class=\"index_name level0\" >Year</th>        <th class=\"index_name level1\" >Quarter</th>        <th class=\"index_name level2\" >Month</th>        <th class=\"blank\" ></th>    </tr></thead><tbody>\n",
              "                <tr>\n",
              "                        <th id=\"T_458736f4_d569_11ea_9e90_0242ac1c0002level0_row0\" class=\"row_heading level0 row0\" rowspan=12>2016</th>\n",
              "                        <th id=\"T_458736f4_d569_11ea_9e90_0242ac1c0002level1_row0\" class=\"row_heading level1 row0\" rowspan=3>Q1</th>\n",
              "                        <th id=\"T_458736f4_d569_11ea_9e90_0242ac1c0002level2_row0\" class=\"row_heading level2 row0\" >1</th>\n",
              "                        <td id=\"T_458736f4_d569_11ea_9e90_0242ac1c0002row0_col0\" class=\"data row0 col0\" >4359</td>\n",
              "            </tr>\n",
              "            <tr>\n",
              "                                        <th id=\"T_458736f4_d569_11ea_9e90_0242ac1c0002level2_row1\" class=\"row_heading level2 row1\" >2</th>\n",
              "                        <td id=\"T_458736f4_d569_11ea_9e90_0242ac1c0002row1_col0\" class=\"data row1 col0\" >2234</td>\n",
              "            </tr>\n",
              "            <tr>\n",
              "                                        <th id=\"T_458736f4_d569_11ea_9e90_0242ac1c0002level2_row2\" class=\"row_heading level2 row2\" >3</th>\n",
              "                        <td id=\"T_458736f4_d569_11ea_9e90_0242ac1c0002row2_col0\" class=\"data row2 col0\" >5642</td>\n",
              "            </tr>\n",
              "            <tr>\n",
              "                                <th id=\"T_458736f4_d569_11ea_9e90_0242ac1c0002level1_row3\" class=\"row_heading level1 row3\" rowspan=3>Q2</th>\n",
              "                        <th id=\"T_458736f4_d569_11ea_9e90_0242ac1c0002level2_row3\" class=\"row_heading level2 row3\" >4</th>\n",
              "                        <td id=\"T_458736f4_d569_11ea_9e90_0242ac1c0002row3_col0\" class=\"data row3 col0\" >5493</td>\n",
              "            </tr>\n",
              "            <tr>\n",
              "                                        <th id=\"T_458736f4_d569_11ea_9e90_0242ac1c0002level2_row4\" class=\"row_heading level2 row4\" >5</th>\n",
              "                        <td id=\"T_458736f4_d569_11ea_9e90_0242ac1c0002row4_col0\" class=\"data row4 col0\" >7540</td>\n",
              "            </tr>\n",
              "            <tr>\n",
              "                                        <th id=\"T_458736f4_d569_11ea_9e90_0242ac1c0002level2_row5\" class=\"row_heading level2 row5\" >6</th>\n",
              "                        <td id=\"T_458736f4_d569_11ea_9e90_0242ac1c0002row5_col0\" class=\"data row5 col0\" >20644</td>\n",
              "            </tr>\n",
              "            <tr>\n",
              "                                <th id=\"T_458736f4_d569_11ea_9e90_0242ac1c0002level1_row6\" class=\"row_heading level1 row6\" rowspan=3>Q3</th>\n",
              "                        <th id=\"T_458736f4_d569_11ea_9e90_0242ac1c0002level2_row6\" class=\"row_heading level2 row6\" >7</th>\n",
              "                        <td id=\"T_458736f4_d569_11ea_9e90_0242ac1c0002row6_col0\" class=\"data row6 col0\" >24521</td>\n",
              "            </tr>\n",
              "            <tr>\n",
              "                                        <th id=\"T_458736f4_d569_11ea_9e90_0242ac1c0002level2_row7\" class=\"row_heading level2 row7\" >8</th>\n",
              "                        <td id=\"T_458736f4_d569_11ea_9e90_0242ac1c0002row7_col0\" class=\"data row7 col0\" >32356</td>\n",
              "            </tr>\n",
              "            <tr>\n",
              "                                        <th id=\"T_458736f4_d569_11ea_9e90_0242ac1c0002level2_row8\" class=\"row_heading level2 row8\" >9</th>\n",
              "                        <td id=\"T_458736f4_d569_11ea_9e90_0242ac1c0002row8_col0\" class=\"data row8 col0\" >54375</td>\n",
              "            </tr>\n",
              "            <tr>\n",
              "                                <th id=\"T_458736f4_d569_11ea_9e90_0242ac1c0002level1_row9\" class=\"row_heading level1 row9\" rowspan=3>Q4</th>\n",
              "                        <th id=\"T_458736f4_d569_11ea_9e90_0242ac1c0002level2_row9\" class=\"row_heading level2 row9\" >10</th>\n",
              "                        <td id=\"T_458736f4_d569_11ea_9e90_0242ac1c0002row9_col0\" class=\"data row9 col0\" >55262</td>\n",
              "            </tr>\n",
              "            <tr>\n",
              "                                        <th id=\"T_458736f4_d569_11ea_9e90_0242ac1c0002level2_row10\" class=\"row_heading level2 row10\" >11</th>\n",
              "                        <td id=\"T_458736f4_d569_11ea_9e90_0242ac1c0002row10_col0\" class=\"data row10 col0\" >51680</td>\n",
              "            </tr>\n",
              "            <tr>\n",
              "                                        <th id=\"T_458736f4_d569_11ea_9e90_0242ac1c0002level2_row11\" class=\"row_heading level2 row11\" >12</th>\n",
              "                        <td id=\"T_458736f4_d569_11ea_9e90_0242ac1c0002row11_col0\" class=\"data row11 col0\" >63871</td>\n",
              "            </tr>\n",
              "            <tr>\n",
              "                        <th id=\"T_458736f4_d569_11ea_9e90_0242ac1c0002level0_row12\" class=\"row_heading level0 row12\" rowspan=10>2017</th>\n",
              "                        <th id=\"T_458736f4_d569_11ea_9e90_0242ac1c0002level1_row12\" class=\"row_heading level1 row12\" rowspan=3>Q1</th>\n",
              "                        <th id=\"T_458736f4_d569_11ea_9e90_0242ac1c0002level2_row12\" class=\"row_heading level2 row12\" >1</th>\n",
              "                        <td id=\"T_458736f4_d569_11ea_9e90_0242ac1c0002row12_col0\" class=\"data row12 col0\" >31121</td>\n",
              "            </tr>\n",
              "            <tr>\n",
              "                                        <th id=\"T_458736f4_d569_11ea_9e90_0242ac1c0002level2_row13\" class=\"row_heading level2 row13\" >2</th>\n",
              "                        <td id=\"T_458736f4_d569_11ea_9e90_0242ac1c0002row13_col0\" class=\"data row13 col0\" >82702</td>\n",
              "            </tr>\n",
              "            <tr>\n",
              "                                        <th id=\"T_458736f4_d569_11ea_9e90_0242ac1c0002level2_row14\" class=\"row_heading level2 row14\" >3</th>\n",
              "                        <td id=\"T_458736f4_d569_11ea_9e90_0242ac1c0002row14_col0\" class=\"data row14 col0\" >134559</td>\n",
              "            </tr>\n",
              "            <tr>\n",
              "                                <th id=\"T_458736f4_d569_11ea_9e90_0242ac1c0002level1_row15\" class=\"row_heading level1 row15\" rowspan=3>Q2</th>\n",
              "                        <th id=\"T_458736f4_d569_11ea_9e90_0242ac1c0002level2_row15\" class=\"row_heading level2 row15\" >4</th>\n",
              "                        <td id=\"T_458736f4_d569_11ea_9e90_0242ac1c0002row15_col0\" class=\"data row15 col0\" >222378</td>\n",
              "            </tr>\n",
              "            <tr>\n",
              "                                        <th id=\"T_458736f4_d569_11ea_9e90_0242ac1c0002level2_row16\" class=\"row_heading level2 row16\" >5</th>\n",
              "                        <td id=\"T_458736f4_d569_11ea_9e90_0242ac1c0002row16_col0\" class=\"data row16 col0\" >339580</td>\n",
              "            </tr>\n",
              "            <tr>\n",
              "                                        <th id=\"T_458736f4_d569_11ea_9e90_0242ac1c0002level2_row17\" class=\"row_heading level2 row17\" >6</th>\n",
              "                        <td id=\"T_458736f4_d569_11ea_9e90_0242ac1c0002row17_col0\" class=\"data row17 col0\" >303742</td>\n",
              "            </tr>\n",
              "            <tr>\n",
              "                                <th id=\"T_458736f4_d569_11ea_9e90_0242ac1c0002level1_row18\" class=\"row_heading level1 row18\" rowspan=3>Q3</th>\n",
              "                        <th id=\"T_458736f4_d569_11ea_9e90_0242ac1c0002level2_row18\" class=\"row_heading level2 row18\" >7</th>\n",
              "                        <td id=\"T_458736f4_d569_11ea_9e90_0242ac1c0002row18_col0\" class=\"data row18 col0\" >413687</td>\n",
              "            </tr>\n",
              "            <tr>\n",
              "                                        <th id=\"T_458736f4_d569_11ea_9e90_0242ac1c0002level2_row19\" class=\"row_heading level2 row19\" >8</th>\n",
              "                        <td id=\"T_458736f4_d569_11ea_9e90_0242ac1c0002row19_col0\" class=\"data row19 col0\" >408345</td>\n",
              "            </tr>\n",
              "            <tr>\n",
              "                                        <th id=\"T_458736f4_d569_11ea_9e90_0242ac1c0002level2_row20\" class=\"row_heading level2 row20\" >9</th>\n",
              "                        <td id=\"T_458736f4_d569_11ea_9e90_0242ac1c0002row20_col0\" class=\"data row20 col0\" >472739</td>\n",
              "            </tr>\n",
              "            <tr>\n",
              "                                <th id=\"T_458736f4_d569_11ea_9e90_0242ac1c0002level1_row21\" class=\"row_heading level1 row21\" >Q4</th>\n",
              "                        <th id=\"T_458736f4_d569_11ea_9e90_0242ac1c0002level2_row21\" class=\"row_heading level2 row21\" >10</th>\n",
              "                        <td id=\"T_458736f4_d569_11ea_9e90_0242ac1c0002row21_col0\" class=\"data row21 col0\" >19063</td>\n",
              "            </tr>\n",
              "    </tbody></table>"
            ]
          },
          "metadata": {
            "tags": []
          }
        }
      ]
    },
    {
      "cell_type": "markdown",
      "metadata": {
        "id": "eGNi75VUlVpF",
        "colab_type": "text"
      },
      "source": [
        "Displaying the actual and predicted revenue for the training data ."
      ]
    },
    {
      "cell_type": "code",
      "metadata": {
        "id": "D07RLhL6I3H9",
        "colab_type": "code",
        "colab": {
          "base_uri": "https://localhost:8080/",
          "height": 235
        },
        "outputId": "3333cbc7-0a97-424d-e97a-1f05ce664afe"
      },
      "source": [
        "from IPython.display import display_html\n",
        "PredictedRevenueQuarterTest= PredictedTable[['Year','Quarter', 'Close_Value']].groupby(['Year','Quarter'], as_index=True).sum()\n",
        "ActualRevenueQuarterTest=ActualTable[['Year','Quarter', 'Close_Value']].groupby(['Year','Quarter'], as_index=True).sum()\n",
        "df3_styler = PredictedRevenueQuarterTest.style.set_table_attributes(\"style='display:inline'\").set_caption('Predicted')\n",
        "df4_styler = ActualRevenueQuarterTest.style.set_table_attributes(\"style='display:inline'\").set_caption('Actual')\n",
        "\n",
        "display_html(df3_styler._repr_html_()+df4_styler._repr_html_(), raw=True)"
      ],
      "execution_count": 58,
      "outputs": [
        {
          "output_type": "display_data",
          "data": {
            "text/html": [
              "<style  type=\"text/css\" >\n",
              "</style><table id=\"T_43947622_d55f_11ea_9e90_0242ac1c0002\" style='display:inline'><caption>Predicted</caption><thead>    <tr>        <th class=\"blank\" ></th>        <th class=\"blank level0\" ></th>        <th class=\"col_heading level0 col0\" >Close_Value</th>    </tr>    <tr>        <th class=\"index_name level0\" >Year</th>        <th class=\"index_name level1\" >Quarter</th>        <th class=\"blank\" ></th>    </tr></thead><tbody>\n",
              "                <tr>\n",
              "                        <th id=\"T_43947622_d55f_11ea_9e90_0242ac1c0002level0_row0\" class=\"row_heading level0 row0\" rowspan=4>2016</th>\n",
              "                        <th id=\"T_43947622_d55f_11ea_9e90_0242ac1c0002level1_row0\" class=\"row_heading level1 row0\" >Q1</th>\n",
              "                        <td id=\"T_43947622_d55f_11ea_9e90_0242ac1c0002row0_col0\" class=\"data row0 col0\" >11742</td>\n",
              "            </tr>\n",
              "            <tr>\n",
              "                                <th id=\"T_43947622_d55f_11ea_9e90_0242ac1c0002level1_row1\" class=\"row_heading level1 row1\" >Q2</th>\n",
              "                        <td id=\"T_43947622_d55f_11ea_9e90_0242ac1c0002row1_col0\" class=\"data row1 col0\" >46580</td>\n",
              "            </tr>\n",
              "            <tr>\n",
              "                                <th id=\"T_43947622_d55f_11ea_9e90_0242ac1c0002level1_row2\" class=\"row_heading level1 row2\" >Q3</th>\n",
              "                        <td id=\"T_43947622_d55f_11ea_9e90_0242ac1c0002row2_col0\" class=\"data row2 col0\" >105460</td>\n",
              "            </tr>\n",
              "            <tr>\n",
              "                                <th id=\"T_43947622_d55f_11ea_9e90_0242ac1c0002level1_row3\" class=\"row_heading level1 row3\" >Q4</th>\n",
              "                        <td id=\"T_43947622_d55f_11ea_9e90_0242ac1c0002row3_col0\" class=\"data row3 col0\" >150648</td>\n",
              "            </tr>\n",
              "            <tr>\n",
              "                        <th id=\"T_43947622_d55f_11ea_9e90_0242ac1c0002level0_row4\" class=\"row_heading level0 row4\" rowspan=4>2017</th>\n",
              "                        <th id=\"T_43947622_d55f_11ea_9e90_0242ac1c0002level1_row4\" class=\"row_heading level1 row4\" >Q1</th>\n",
              "                        <td id=\"T_43947622_d55f_11ea_9e90_0242ac1c0002row4_col0\" class=\"data row4 col0\" >236702</td>\n",
              "            </tr>\n",
              "            <tr>\n",
              "                                <th id=\"T_43947622_d55f_11ea_9e90_0242ac1c0002level1_row5\" class=\"row_heading level1 row5\" >Q2</th>\n",
              "                        <td id=\"T_43947622_d55f_11ea_9e90_0242ac1c0002row5_col0\" class=\"data row5 col0\" >776701</td>\n",
              "            </tr>\n",
              "            <tr>\n",
              "                                <th id=\"T_43947622_d55f_11ea_9e90_0242ac1c0002level1_row6\" class=\"row_heading level1 row6\" >Q3</th>\n",
              "                        <td id=\"T_43947622_d55f_11ea_9e90_0242ac1c0002row6_col0\" class=\"data row6 col0\" >1228723</td>\n",
              "            </tr>\n",
              "            <tr>\n",
              "                                <th id=\"T_43947622_d55f_11ea_9e90_0242ac1c0002level1_row7\" class=\"row_heading level1 row7\" >Q4</th>\n",
              "                        <td id=\"T_43947622_d55f_11ea_9e90_0242ac1c0002row7_col0\" class=\"data row7 col0\" >19063</td>\n",
              "            </tr>\n",
              "    </tbody></table><style  type=\"text/css\" >\n",
              "</style><table id=\"T_4394bfce_d55f_11ea_9e90_0242ac1c0002\" style='display:inline'><caption>Actual</caption><thead>    <tr>        <th class=\"blank\" ></th>        <th class=\"blank level0\" ></th>        <th class=\"col_heading level0 col0\" >Close_Value</th>    </tr>    <tr>        <th class=\"index_name level0\" >Year</th>        <th class=\"index_name level1\" >Quarter</th>        <th class=\"blank\" ></th>    </tr></thead><tbody>\n",
              "                <tr>\n",
              "                        <th id=\"T_4394bfce_d55f_11ea_9e90_0242ac1c0002level0_row0\" class=\"row_heading level0 row0\" rowspan=4>2016</th>\n",
              "                        <th id=\"T_4394bfce_d55f_11ea_9e90_0242ac1c0002level1_row0\" class=\"row_heading level1 row0\" >Q1</th>\n",
              "                        <td id=\"T_4394bfce_d55f_11ea_9e90_0242ac1c0002row0_col0\" class=\"data row0 col0\" >12235</td>\n",
              "            </tr>\n",
              "            <tr>\n",
              "                                <th id=\"T_4394bfce_d55f_11ea_9e90_0242ac1c0002level1_row1\" class=\"row_heading level1 row1\" >Q2</th>\n",
              "                        <td id=\"T_4394bfce_d55f_11ea_9e90_0242ac1c0002row1_col0\" class=\"data row1 col0\" >33677</td>\n",
              "            </tr>\n",
              "            <tr>\n",
              "                                <th id=\"T_4394bfce_d55f_11ea_9e90_0242ac1c0002level1_row2\" class=\"row_heading level1 row2\" >Q3</th>\n",
              "                        <td id=\"T_4394bfce_d55f_11ea_9e90_0242ac1c0002row2_col0\" class=\"data row2 col0\" >111252</td>\n",
              "            </tr>\n",
              "            <tr>\n",
              "                                <th id=\"T_4394bfce_d55f_11ea_9e90_0242ac1c0002level1_row3\" class=\"row_heading level1 row3\" >Q4</th>\n",
              "                        <td id=\"T_4394bfce_d55f_11ea_9e90_0242ac1c0002row3_col0\" class=\"data row3 col0\" >170813</td>\n",
              "            </tr>\n",
              "            <tr>\n",
              "                        <th id=\"T_4394bfce_d55f_11ea_9e90_0242ac1c0002level0_row4\" class=\"row_heading level0 row4\" rowspan=4>2017</th>\n",
              "                        <th id=\"T_4394bfce_d55f_11ea_9e90_0242ac1c0002level1_row4\" class=\"row_heading level1 row4\" >Q1</th>\n",
              "                        <td id=\"T_4394bfce_d55f_11ea_9e90_0242ac1c0002row4_col0\" class=\"data row4 col0\" >248382</td>\n",
              "            </tr>\n",
              "            <tr>\n",
              "                                <th id=\"T_4394bfce_d55f_11ea_9e90_0242ac1c0002level1_row5\" class=\"row_heading level1 row5\" >Q2</th>\n",
              "                        <td id=\"T_4394bfce_d55f_11ea_9e90_0242ac1c0002row5_col0\" class=\"data row5 col0\" >865700</td>\n",
              "            </tr>\n",
              "            <tr>\n",
              "                                <th id=\"T_4394bfce_d55f_11ea_9e90_0242ac1c0002level1_row6\" class=\"row_heading level1 row6\" >Q3</th>\n",
              "                        <td id=\"T_4394bfce_d55f_11ea_9e90_0242ac1c0002row6_col0\" class=\"data row6 col0\" >1294771</td>\n",
              "            </tr>\n",
              "            <tr>\n",
              "                                <th id=\"T_4394bfce_d55f_11ea_9e90_0242ac1c0002level1_row7\" class=\"row_heading level1 row7\" >Q4</th>\n",
              "                        <td id=\"T_4394bfce_d55f_11ea_9e90_0242ac1c0002row7_col0\" class=\"data row7 col0\" >19063</td>\n",
              "            </tr>\n",
              "    </tbody></table>"
            ]
          },
          "metadata": {
            "tags": []
          }
        }
      ]
    },
    {
      "cell_type": "markdown",
      "metadata": {
        "id": "WirE1WX0l8ae",
        "colab_type": "text"
      },
      "source": [
        "Quarterly rate revenue for the predicted data"
      ]
    },
    {
      "cell_type": "code",
      "metadata": {
        "id": "EohwyNijECMP",
        "colab_type": "code",
        "colab": {
          "base_uri": "https://localhost:8080/",
          "height": 115
        },
        "outputId": "b46a48a0-c165-41d4-bdbf-62a356a69651"
      },
      "source": [
        "PredictedRevenueYearTest= PredictedTable[['Year', 'Close_Value']].groupby(['Year'], as_index=True).sum()\n",
        "ActualRevenueYearTest=ActualTable[['Year', 'Close_Value']].groupby(['Year'], as_index=True).sum()\n",
        "df5_styler = PredictedRevenueYearTest.style.set_table_attributes(\"style='display:inline'\").set_caption('Predicted')\n",
        "df6_styler = ActualRevenueYearTest.style.set_table_attributes(\"style='display:inline'\").set_caption('Actual')\n",
        "\n",
        "display_html(df5_styler._repr_html_()+df6_styler._repr_html_(), raw=True)"
      ],
      "execution_count": 59,
      "outputs": [
        {
          "output_type": "display_data",
          "data": {
            "text/html": [
              "<style  type=\"text/css\" >\n",
              "</style><table id=\"T_4397e5a0_d55f_11ea_9e90_0242ac1c0002\" style='display:inline'><caption>Predicted</caption><thead>    <tr>        <th class=\"blank level0\" ></th>        <th class=\"col_heading level0 col0\" >Close_Value</th>    </tr>    <tr>        <th class=\"index_name level0\" >Year</th>        <th class=\"blank\" ></th>    </tr></thead><tbody>\n",
              "                <tr>\n",
              "                        <th id=\"T_4397e5a0_d55f_11ea_9e90_0242ac1c0002level0_row0\" class=\"row_heading level0 row0\" >2016</th>\n",
              "                        <td id=\"T_4397e5a0_d55f_11ea_9e90_0242ac1c0002row0_col0\" class=\"data row0 col0\" >314430</td>\n",
              "            </tr>\n",
              "            <tr>\n",
              "                        <th id=\"T_4397e5a0_d55f_11ea_9e90_0242ac1c0002level0_row1\" class=\"row_heading level0 row1\" >2017</th>\n",
              "                        <td id=\"T_4397e5a0_d55f_11ea_9e90_0242ac1c0002row1_col0\" class=\"data row1 col0\" >2261189</td>\n",
              "            </tr>\n",
              "    </tbody></table><style  type=\"text/css\" >\n",
              "</style><table id=\"T_4398100c_d55f_11ea_9e90_0242ac1c0002\" style='display:inline'><caption>Actual</caption><thead>    <tr>        <th class=\"blank level0\" ></th>        <th class=\"col_heading level0 col0\" >Close_Value</th>    </tr>    <tr>        <th class=\"index_name level0\" >Year</th>        <th class=\"blank\" ></th>    </tr></thead><tbody>\n",
              "                <tr>\n",
              "                        <th id=\"T_4398100c_d55f_11ea_9e90_0242ac1c0002level0_row0\" class=\"row_heading level0 row0\" >2016</th>\n",
              "                        <td id=\"T_4398100c_d55f_11ea_9e90_0242ac1c0002row0_col0\" class=\"data row0 col0\" >327977</td>\n",
              "            </tr>\n",
              "            <tr>\n",
              "                        <th id=\"T_4398100c_d55f_11ea_9e90_0242ac1c0002level0_row1\" class=\"row_heading level0 row1\" >2017</th>\n",
              "                        <td id=\"T_4398100c_d55f_11ea_9e90_0242ac1c0002row1_col0\" class=\"data row1 col0\" >2427916</td>\n",
              "            </tr>\n",
              "    </tbody></table>"
            ]
          },
          "metadata": {
            "tags": []
          }
        }
      ]
    },
    {
      "cell_type": "markdown",
      "metadata": {
        "id": "afmg-6-jl_d-",
        "colab_type": "text"
      },
      "source": [
        "Yearly revenue for the training data "
      ]
    },
    {
      "cell_type": "markdown",
      "metadata": {
        "id": "51gVJV6hmFTc",
        "colab_type": "text"
      },
      "source": [
        "Prediction method to test out our Model with data"
      ]
    },
    {
      "cell_type": "code",
      "metadata": {
        "id": "Y69jBfUcMZmE",
        "colab_type": "code",
        "colab": {}
      },
      "source": [
        "def Prediction(prediction1Table,prediction2Table, displayType='Monthly'):\n",
        "  prediction1Table['UniqueID']=prediction1Table['fromEmailId']+'_'+prediction1Table['toEmailId']\n",
        "  prediction2Table['UniqueID']=prediction2Table['SalesAgentEmailID']+'_'+prediction2Table['ContactEmailID']\n",
        "  predictionTable3=pd.merge(prediction1Table,prediction2Table)\n",
        "  predictionTable3['UniqueID']=predictionTable3['UniqueID']+predictionTable3['Opportunity_ID']\n",
        "  predictionTable3 = predictionTable3[(predictionTable3['Created Date'] <= predictionTable3['InteractionDate']) &(predictionTable3['InteractionDate'] <= predictionTable3['Close Date'])]\n",
        "\n",
        "  predictedData1=predictionTable3[['UniqueID','Account','Polarity','Subjectivity','Score']].groupby(['Account','UniqueID'],as_index=True).mean()\n",
        "  prediction2Table['UniqueID']=prediction2Table['UniqueID']+prediction2Table['Opportunity_ID']\n",
        "  predictedData2=prediction2Table[['UniqueID','Close_Value','Created Date','Close Date','Deal_Stage','Product','Account','DateDiff']]\n",
        "\n",
        "  predictedData3=predictedData1.merge(predictedData2,on='UniqueID')\n",
        "  X1=predictedData3.drop(columns=['Deal_Stage','Product','UniqueID','Account','Created Date','Close Date','DateDiff'])\n",
        "  predictedData3['PredictedState']= knn.predict(X1)\n",
        "  predictedData3['PredictedState']=predictedData3['PredictedState'].replace({0: 'Lost', 2: 'Won',1:'In Progress'})\n",
        "  predictedData3['Year'] = predictedData3['Close Date'].dt.year\n",
        "  predictedData3['Month'] =predictedData3['Close Date'].dt.month\n",
        "  predictedData3['Quarter']=predictedData3['Month'].apply(lambda x: 'Q1' if x <=3  else ('Q2'if x >3 and x<=6 else ('Q3' if x>6 and x<=9 else 'Q4')))\n",
        "  PredictedTable1=predictedData3[predictedData3['PredictedState']=='Won']\n",
        "  ActualTable1=predictedData3[predictedData3['Deal_Stage']=='Won']\n",
        "  if(displayType=='Yearly'):\n",
        "    PredictedRevenueYearTest= PredictedTable1[['Year', 'Close_Value']].groupby(['Year'], as_index=True).sum()\n",
        "    ActualRevenueYearTest=ActualTable1[['Year', 'Close_Value']].groupby(['Year'], as_index=True).sum()\n",
        "    df1_styler = PredictedRevenueYearTest.style.set_table_attributes(\"style='display:inline'\").set_caption('Predicted')\n",
        "    df2_styler = ActualRevenueYearTest.style.set_table_attributes(\"style='display:inline'\").set_caption('Actual')\n",
        "\n",
        "  elif (displayType=='Quarterly'):\n",
        "    PredictedRevenueQuarterTest= PredictedTable1[['Year','Quarter', 'Close_Value']].groupby(['Year','Quarter'], as_index=True).sum()\n",
        "    ActualRevenueQuarterTest=ActualTable1[['Year','Quarter', 'Close_Value']].groupby(['Year','Quarter'], as_index=True).sum()\n",
        "    df1_styler = PredictedRevenueQuarterTest.style.set_table_attributes(\"style='display:inline'\").set_caption('Predicted')\n",
        "    df2_styler = ActualRevenueQuarterTest.style.set_table_attributes(\"style='display:inline'\").set_caption('Actual')\n",
        "\n",
        "  else:\n",
        "    PredictedRevenueMonthTest= PredictedTable1[['Year','Quarter','Month', 'Close_Value']].groupby(['Year','Quarter','Month'], as_index=True).sum()\n",
        "    ActualRevenueMonthTest=ActualTable1[['Year','Quarter','Month', 'Close_Value']].groupby(['Year','Quarter','Month'], as_index=True).sum()\n",
        "    df1_styler = PredictedRevenueMonthTest.style.set_table_attributes(\"style='display:inline'\").set_caption('Predicted')\n",
        "    df2_styler = ActualRevenueMonthTest.style.set_table_attributes(\"style='display:inline'\").set_caption('Actual')\n",
        "\n",
        "  display_html(df1_styler._repr_html_()+df2_styler._repr_html_(), raw=True)\n"
      ],
      "execution_count": 86,
      "outputs": []
    },
    {
      "cell_type": "markdown",
      "metadata": {
        "id": "O9K07_-MbvQV",
        "colab_type": "text"
      },
      "source": [
        "2017 Quarter4 Prediction And Actual"
      ]
    },
    {
      "cell_type": "code",
      "metadata": {
        "id": "zHeTI-qtWDUE",
        "colab_type": "code",
        "colab": {
          "base_uri": "https://localhost:8080/",
          "height": 326
        },
        "outputId": "eb3bc976-d5bc-46d9-a373-d64bc8546fb8"
      },
      "source": [
        "prediction1Table=df[df['InteractionDate'] > '2017-01-01']\n",
        "prediction1Table=prediction1Table[prediction1Table['InteractionDate'] <= '2017-12-31']\n",
        "prediction2Table=sales_df[sales_df['Close Date'] > '2017-01-01']\n",
        "prediction2Table=prediction2Table=sales_df[sales_df['Close Date'] <= '2017-12-31']\n",
        "Prediction(prediction1Table,prediction2Table,'Yearly')"
      ],
      "execution_count": 93,
      "outputs": [
        {
          "output_type": "stream",
          "text": [
            "/usr/local/lib/python3.6/dist-packages/ipykernel_launcher.py:3: SettingWithCopyWarning: \n",
            "A value is trying to be set on a copy of a slice from a DataFrame.\n",
            "Try using .loc[row_indexer,col_indexer] = value instead\n",
            "\n",
            "See the caveats in the documentation: https://pandas.pydata.org/pandas-docs/stable/user_guide/indexing.html#returning-a-view-versus-a-copy\n",
            "  This is separate from the ipykernel package so we can avoid doing imports until\n",
            "/usr/local/lib/python3.6/dist-packages/ipykernel_launcher.py:9: SettingWithCopyWarning: \n",
            "A value is trying to be set on a copy of a slice from a DataFrame.\n",
            "Try using .loc[row_indexer,col_indexer] = value instead\n",
            "\n",
            "See the caveats in the documentation: https://pandas.pydata.org/pandas-docs/stable/user_guide/indexing.html#returning-a-view-versus-a-copy\n",
            "  if __name__ == '__main__':\n"
          ],
          "name": "stderr"
        },
        {
          "output_type": "display_data",
          "data": {
            "text/html": [
              "<style  type=\"text/css\" >\n",
              "</style><table id=\"T_91b889d0_d56c_11ea_9e90_0242ac1c0002\" style='display:inline'><caption>Predicted</caption><thead>    <tr>        <th class=\"blank level0\" ></th>        <th class=\"col_heading level0 col0\" >Close_Value</th>    </tr>    <tr>        <th class=\"index_name level0\" >Year</th>        <th class=\"blank\" ></th>    </tr></thead><tbody>\n",
              "                <tr>\n",
              "                        <th id=\"T_91b889d0_d56c_11ea_9e90_0242ac1c0002level0_row0\" class=\"row_heading level0 row0\" >2017</th>\n",
              "                        <td id=\"T_91b889d0_d56c_11ea_9e90_0242ac1c0002row0_col0\" class=\"data row0 col0\" >3657799</td>\n",
              "            </tr>\n",
              "    </tbody></table><style  type=\"text/css\" >\n",
              "</style><table id=\"T_91b8a3e8_d56c_11ea_9e90_0242ac1c0002\" style='display:inline'><caption>Actual</caption><thead>    <tr>        <th class=\"blank level0\" ></th>        <th class=\"col_heading level0 col0\" >Close_Value</th>    </tr>    <tr>        <th class=\"index_name level0\" >Year</th>        <th class=\"blank\" ></th>    </tr></thead><tbody>\n",
              "                <tr>\n",
              "                        <th id=\"T_91b8a3e8_d56c_11ea_9e90_0242ac1c0002level0_row0\" class=\"row_heading level0 row0\" >2017</th>\n",
              "                        <td id=\"T_91b8a3e8_d56c_11ea_9e90_0242ac1c0002row0_col0\" class=\"data row0 col0\" >3911318</td>\n",
              "            </tr>\n",
              "    </tbody></table>"
            ]
          },
          "metadata": {
            "tags": []
          }
        }
      ]
    },
    {
      "cell_type": "markdown",
      "metadata": {
        "id": "KHG2VkD1n_DH",
        "colab_type": "text"
      },
      "source": [
        "2018 Prediciton and Actual"
      ]
    },
    {
      "cell_type": "code",
      "metadata": {
        "id": "jEaScbfhO6JX",
        "colab_type": "code",
        "colab": {
          "base_uri": "https://localhost:8080/",
          "height": 306
        },
        "outputId": "b3244eed-2d46-4c46-c007-97cc8667b7d2"
      },
      "source": [
        "prediction3Table=df[df['InteractionDate'] >= '2018-01-01']\n",
        "prediction3Table=prediction3Table[prediction3Table['InteractionDate'] <= '2018-12-31']\n",
        "prediction4Table=sales_df[sales_df['Close Date'] >= '2018-01-01']\n",
        "prediction4Table=prediction2Table=sales_df[sales_df['Close Date'] <= '2018-12-31']\n",
        "Prediction(prediction3Table,prediction4Table,'Yearly')"
      ],
      "execution_count": 96,
      "outputs": [
        {
          "output_type": "stream",
          "text": [
            "/usr/local/lib/python3.6/dist-packages/ipykernel_launcher.py:3: SettingWithCopyWarning: \n",
            "A value is trying to be set on a copy of a slice from a DataFrame.\n",
            "Try using .loc[row_indexer,col_indexer] = value instead\n",
            "\n",
            "See the caveats in the documentation: https://pandas.pydata.org/pandas-docs/stable/user_guide/indexing.html#returning-a-view-versus-a-copy\n",
            "  This is separate from the ipykernel package so we can avoid doing imports until\n",
            "/usr/local/lib/python3.6/dist-packages/ipykernel_launcher.py:9: SettingWithCopyWarning: \n",
            "A value is trying to be set on a copy of a slice from a DataFrame.\n",
            "Try using .loc[row_indexer,col_indexer] = value instead\n",
            "\n",
            "See the caveats in the documentation: https://pandas.pydata.org/pandas-docs/stable/user_guide/indexing.html#returning-a-view-versus-a-copy\n",
            "  if __name__ == '__main__':\n"
          ],
          "name": "stderr"
        },
        {
          "output_type": "display_data",
          "data": {
            "text/html": [
              "<style  type=\"text/css\" >\n",
              "</style><table id=\"T_fccab5fe_d56c_11ea_9e90_0242ac1c0002\" style='display:inline'><caption>Predicted</caption><thead>    <tr>        <th class=\"blank level0\" ></th>        <th class=\"col_heading level0 col0\" >Close_Value</th>    </tr>    <tr>        <th class=\"index_name level0\" >Year</th>        <th class=\"blank\" ></th>    </tr></thead><tbody>\n",
              "                <tr>\n",
              "                        <th id=\"T_fccab5fe_d56c_11ea_9e90_0242ac1c0002level0_row0\" class=\"row_heading level0 row0\" >2018</th>\n",
              "                        <td id=\"T_fccab5fe_d56c_11ea_9e90_0242ac1c0002row0_col0\" class=\"data row0 col0\" >2460237</td>\n",
              "            </tr>\n",
              "    </tbody></table><style  type=\"text/css\" >\n",
              "</style><table id=\"T_fccadd04_d56c_11ea_9e90_0242ac1c0002\" style='display:inline'><caption>Actual</caption><thead>    <tr>        <th class=\"blank level0\" ></th>        <th class=\"col_heading level0 col0\" >Close_Value</th>    </tr>    <tr>        <th class=\"index_name level0\" >Year</th>        <th class=\"blank\" ></th>    </tr></thead><tbody>\n",
              "                <tr>\n",
              "                        <th id=\"T_fccadd04_d56c_11ea_9e90_0242ac1c0002level0_row0\" class=\"row_heading level0 row0\" >2018</th>\n",
              "                        <td id=\"T_fccadd04_d56c_11ea_9e90_0242ac1c0002row0_col0\" class=\"data row0 col0\" >2639576</td>\n",
              "            </tr>\n",
              "    </tbody></table>"
            ]
          },
          "metadata": {
            "tags": []
          }
        }
      ]
    },
    {
      "cell_type": "markdown",
      "metadata": {
        "id": "QW_qdzR7oUWg",
        "colab_type": "text"
      },
      "source": [
        "\n",
        "\n"
      ]
    },
    {
      "cell_type": "code",
      "metadata": {
        "id": "FDJ62jIVYKG3",
        "colab_type": "code",
        "colab": {}
      },
      "source": [
        ""
      ],
      "execution_count": 62,
      "outputs": []
    }
  ]
}